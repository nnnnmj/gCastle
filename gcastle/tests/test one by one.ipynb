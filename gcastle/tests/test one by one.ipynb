{
 "cells": [
  {
   "cell_type": "code",
   "execution_count": 1,
   "metadata": {},
   "outputs": [
    {
     "name": "stderr",
     "output_type": "stream",
     "text": [
      "2023-03-16 17:52:14,820 - /Users/momo/Desktop/CoDiet/code/gCastle/gcastle/tests/../castle/backend/__init__.py[line:36] - INFO: You can use `os.environ['CASTLE_BACKEND'] = backend` to set the backend(`pytorch` or `mindspore`).\n",
      "2023-03-16 17:52:14,854 - /Users/momo/Desktop/CoDiet/code/gCastle/gcastle/tests/../castle/algorithms/__init__.py[line:36] - INFO: You are using ``pytorch`` as the backend.\n"
     ]
    }
   ],
   "source": [
    "import sys\n",
    "sys.path.append('../')\n",
    "# print (sys.path)\n",
    "import torch\n",
    "import logging\n",
    "import unittest\n",
    "import traceback\n",
    "import numpy as np\n",
    "\n",
    "from castle.algorithms import *\n",
    "from castle.common import consts\n",
    "from castle.common import GraphDAG\n",
    "from castle.metrics import MetricsDAG\n",
    "\n",
    "from utils.functional import combined_params"
   ]
  },
  {
   "cell_type": "markdown",
   "metadata": {},
   "source": [
    "## load data & params"
   ]
  },
  {
   "cell_type": "code",
   "execution_count": 2,
   "metadata": {},
   "outputs": [],
   "source": [
    "data = np.load('dataset/linear_gauss_6nodes_15edges.npz', allow_pickle=True)\n",
    "x = data['x']\n",
    "true_dag = data['y']\n",
    "rank = np.linalg.matrix_rank(true_dag)\n",
    "error_params = []"
   ]
  },
  {
   "cell_type": "code",
   "execution_count": 3,
   "metadata": {},
   "outputs": [],
   "source": [
    "def add_params(params=None) -> dict:\n",
    "    \"\"\"\n",
    "    add parameter `device_type` for algorithms based on torch\n",
    "\n",
    "    Parameters\n",
    "    ----------\n",
    "    params: dict\n",
    "        from castle.common.consts\n",
    "    \"\"\"\n",
    "\n",
    "    if params is None:\n",
    "        params = dict()\n",
    "    if torch.cuda.is_available():\n",
    "        params['device_type'] = ['cpu', 'gpu']\n",
    "    else:\n",
    "        params['device_type'] = ['cpu']\n",
    "\n",
    "    return params"
   ]
  },
  {
   "cell_type": "markdown",
   "metadata": {},
   "source": [
    "## test"
   ]
  },
  {
   "cell_type": "code",
   "execution_count": 4,
   "metadata": {},
   "outputs": [],
   "source": [
    "results = []"
   ]
  },
  {
   "cell_type": "code",
   "execution_count": 6,
   "metadata": {},
   "outputs": [],
   "source": [
    "anm = ANMNonlinear(alpha=0.05)\n",
    "anm.learn(data=x)"
   ]
  },
  {
   "cell_type": "code",
   "execution_count": 7,
   "metadata": {},
   "outputs": [
    {
     "data": {
      "image/png": "[encoded data removed]",
      "text/plain": [
       "<Figure size 576x216 with 4 Axes>"
      ]
     },
     "metadata": {
      "needs_background": "light"
     },
     "output_type": "display_data"
    },
    {
     "name": "stdout",
     "output_type": "stream",
     "text": [
      "{'fdr': 0.1333, 'tpr': 1.0, 'fpr': 1.0, 'shd': 2, 'nnz': 15, 'precision': 0.4333, 'recall': 1.0, 'F1': 0.6047, 'gscore': 0.0}\n"
     ]
    }
   ],
   "source": [
    "GraphDAG(anm.causal_matrix, true_dag)\n",
    "mm = MetricsDAG(anm.causal_matrix, true_dag)\n",
    "print(mm.metrics)\n",
    "results.append(mm.metrics)"
   ]
  },
  {
   "cell_type": "code",
   "execution_count": 8,
   "metadata": {},
   "outputs": [],
   "source": [
    "p_corl = add_params(consts.CORL_VALID_PARAMS)"
   ]
  },
  {
   "cell_type": "code",
   "execution_count": 9,
   "metadata": {},
   "outputs": [
    {
     "name": "stderr",
     "output_type": "stream",
     "text": [
      "2023-03-16 17:15:57,423 - /Users/momo/Desktop/CoDiet/code/gCastle/gcastle/tests/../castle/algorithms/gradient/corl/torch/corl.py[line:175] - INFO: GPU is unavailable.\n",
      "2023-03-16 17:15:57,430 - /Users/momo/Desktop/CoDiet/code/gCastle/gcastle/tests/../castle/algorithms/gradient/corl/torch/corl.py[line:233] - INFO: Python version is 3.9.7\n",
      "2023-03-16 17:15:57,455 - /Users/momo/Desktop/CoDiet/code/gCastle/gcastle/tests/../castle/algorithms/gradient/corl/torch/corl.py[line:277] - INFO: Shape of input batch: 64, 6, 100\n",
      "2023-03-16 17:15:57,456 - /Users/momo/Desktop/CoDiet/code/gCastle/gcastle/tests/../castle/algorithms/gradient/corl/torch/corl.py[line:279] - INFO: Shape of input batch: 64, 6, 256\n",
      "2023-03-16 17:15:57,456 - /Users/momo/Desktop/CoDiet/code/gCastle/gcastle/tests/../castle/algorithms/gradient/corl/torch/corl.py[line:281] - INFO: Starting training.\n",
      "  0%|          | 0/3 [00:00<?, ?it/s][W NNPACK.cpp:79] Could not initialize NNPACK! Reason: Unsupported hardware.\n",
      "/Users/momo/Desktop/CoDiet/code/gCastle/gcastle/tests/../castle/algorithms/gradient/corl/torch/corl.py:334: UserWarning: Creating a tensor from a list of numpy.ndarrays is extremely slow. Please consider converting the list to a single numpy.ndarray with numpy.array() before converting to a tensor. (Triggered internally at  /Users/distiller/project/conda/conda-bld/pytorch_1639180852547/work/torch/csrc/utils/tensor_new.cpp:201.)\n",
      "  td_target=torch.tensor(td_target),\n",
      "2023-03-16 17:15:58,296 - /Users/momo/Desktop/CoDiet/code/gCastle/gcastle/tests/../castle/algorithms/gradient/corl/torch/corl.py[line:371] - INFO: [iter 1] max_reward: -2.025, max_reward_batch: -2.025\n",
      "2023-03-16 17:15:58,297 - /Users/momo/Desktop/CoDiet/code/gCastle/gcastle/tests/../castle/algorithms/gradient/corl/torch/corl.py[line:377] - INFO: [iter 1] score_min 2.025\n",
      "100%|██████████| 3/3 [00:02<00:00,  1.46it/s]\n",
      "2023-03-16 17:15:59,543 - /Users/momo/Desktop/CoDiet/code/gCastle/gcastle/tests/../castle/algorithms/gradient/corl/torch/corl.py[line:175] - INFO: GPU is unavailable.\n",
      "2023-03-16 17:15:59,544 - /Users/momo/Desktop/CoDiet/code/gCastle/gcastle/tests/../castle/algorithms/gradient/corl/torch/corl.py[line:233] - INFO: Python version is 3.9.7\n",
      "2023-03-16 17:15:59,559 - /Users/momo/Desktop/CoDiet/code/gCastle/gcastle/tests/../castle/algorithms/gradient/corl/torch/corl.py[line:277] - INFO: Shape of input batch: 64, 6, 100\n",
      "2023-03-16 17:15:59,559 - /Users/momo/Desktop/CoDiet/code/gCastle/gcastle/tests/../castle/algorithms/gradient/corl/torch/corl.py[line:279] - INFO: Shape of input batch: 64, 6, 256\n",
      "2023-03-16 17:15:59,560 - /Users/momo/Desktop/CoDiet/code/gCastle/gcastle/tests/../castle/algorithms/gradient/corl/torch/corl.py[line:281] - INFO: Starting training.\n",
      "  0%|          | 0/3 [00:00<?, ?it/s]2023-03-16 17:16:00,139 - /Users/momo/Desktop/CoDiet/code/gCastle/gcastle/tests/../castle/algorithms/gradient/corl/torch/corl.py[line:371] - INFO: [iter 1] max_reward: 0.03301, max_reward_batch: 0.03301\n",
      "2023-03-16 17:16:00,139 - /Users/momo/Desktop/CoDiet/code/gCastle/gcastle/tests/../castle/algorithms/gradient/corl/torch/corl.py[line:377] - INFO: [iter 1] score_min -0.03301\n",
      "100%|██████████| 3/3 [00:01<00:00,  1.73it/s]\n",
      "2023-03-16 17:16:01,300 - /Users/momo/Desktop/CoDiet/code/gCastle/gcastle/tests/../castle/algorithms/gradient/corl/torch/corl.py[line:175] - INFO: GPU is unavailable.\n",
      "2023-03-16 17:16:01,301 - /Users/momo/Desktop/CoDiet/code/gCastle/gcastle/tests/../castle/algorithms/gradient/corl/torch/corl.py[line:233] - INFO: Python version is 3.9.7\n",
      "2023-03-16 17:16:01,313 - /Users/momo/Desktop/CoDiet/code/gCastle/gcastle/tests/../castle/algorithms/gradient/corl/torch/corl.py[line:277] - INFO: Shape of input batch: 64, 6, 100\n",
      "2023-03-16 17:16:01,314 - /Users/momo/Desktop/CoDiet/code/gCastle/gcastle/tests/../castle/algorithms/gradient/corl/torch/corl.py[line:279] - INFO: Shape of input batch: 64, 6, 256\n",
      "2023-03-16 17:16:01,314 - /Users/momo/Desktop/CoDiet/code/gCastle/gcastle/tests/../castle/algorithms/gradient/corl/torch/corl.py[line:281] - INFO: Starting training.\n",
      "  0%|          | 0/3 [00:00<?, ?it/s]2023-03-16 17:16:01,869 - /Users/momo/Desktop/CoDiet/code/gCastle/gcastle/tests/../castle/algorithms/gradient/corl/torch/corl.py[line:371] - INFO: [iter 1] max_reward: -1.787, max_reward_batch: -1.787\n",
      "2023-03-16 17:16:01,869 - /Users/momo/Desktop/CoDiet/code/gCastle/gcastle/tests/../castle/algorithms/gradient/corl/torch/corl.py[line:377] - INFO: [iter 1] score_min 1.787\n",
      "100%|██████████| 3/3 [00:01<00:00,  1.80it/s]\n",
      "2023-03-16 17:16:02,985 - /Users/momo/Desktop/CoDiet/code/gCastle/gcastle/tests/../castle/algorithms/gradient/corl/torch/corl.py[line:175] - INFO: GPU is unavailable.\n",
      "2023-03-16 17:16:02,987 - /Users/momo/Desktop/CoDiet/code/gCastle/gcastle/tests/../castle/algorithms/gradient/corl/torch/corl.py[line:233] - INFO: Python version is 3.9.7\n",
      "2023-03-16 17:16:02,998 - /Users/momo/Desktop/CoDiet/code/gCastle/gcastle/tests/../castle/algorithms/gradient/corl/torch/corl.py[line:277] - INFO: Shape of input batch: 64, 6, 100\n",
      "2023-03-16 17:16:02,999 - /Users/momo/Desktop/CoDiet/code/gCastle/gcastle/tests/../castle/algorithms/gradient/corl/torch/corl.py[line:279] - INFO: Shape of input batch: 64, 6, 256\n",
      "2023-03-16 17:16:02,999 - /Users/momo/Desktop/CoDiet/code/gCastle/gcastle/tests/../castle/algorithms/gradient/corl/torch/corl.py[line:281] - INFO: Starting training.\n",
      "  0%|          | 0/3 [00:00<?, ?it/s]2023-03-16 17:16:03,570 - /Users/momo/Desktop/CoDiet/code/gCastle/gcastle/tests/../castle/algorithms/gradient/corl/torch/corl.py[line:371] - INFO: [iter 1] max_reward: 0.03301, max_reward_batch: 0.03301\n",
      "2023-03-16 17:16:03,570 - /Users/momo/Desktop/CoDiet/code/gCastle/gcastle/tests/../castle/algorithms/gradient/corl/torch/corl.py[line:377] - INFO: [iter 1] score_min -0.03301\n",
      "100%|██████████| 3/3 [00:01<00:00,  1.82it/s]\n",
      "2023-03-16 17:16:04,652 - /Users/momo/Desktop/CoDiet/code/gCastle/gcastle/tests/../castle/algorithms/gradient/corl/torch/corl.py[line:175] - INFO: GPU is unavailable.\n",
      "2023-03-16 17:16:04,653 - /Users/momo/Desktop/CoDiet/code/gCastle/gcastle/tests/../castle/algorithms/gradient/corl/torch/corl.py[line:233] - INFO: Python version is 3.9.7\n",
      "2023-03-16 17:16:04,664 - /Users/momo/Desktop/CoDiet/code/gCastle/gcastle/tests/../castle/algorithms/gradient/corl/torch/corl.py[line:277] - INFO: Shape of input batch: 64, 6, 100\n",
      "2023-03-16 17:16:04,665 - /Users/momo/Desktop/CoDiet/code/gCastle/gcastle/tests/../castle/algorithms/gradient/corl/torch/corl.py[line:279] - INFO: Shape of input batch: 64, 6, 256\n",
      "2023-03-16 17:16:04,665 - /Users/momo/Desktop/CoDiet/code/gCastle/gcastle/tests/../castle/algorithms/gradient/corl/torch/corl.py[line:281] - INFO: Starting training.\n",
      "  0%|          | 0/3 [00:00<?, ?it/s]2023-03-16 17:16:05,149 - /Users/momo/Desktop/CoDiet/code/gCastle/gcastle/tests/../castle/algorithms/gradient/corl/torch/corl.py[line:371] - INFO: [iter 1] max_reward: -1.816, max_reward_batch: -1.816\n",
      "2023-03-16 17:16:05,150 - /Users/momo/Desktop/CoDiet/code/gCastle/gcastle/tests/../castle/algorithms/gradient/corl/torch/corl.py[line:377] - INFO: [iter 1] score_min 1.816\n",
      "100%|██████████| 3/3 [00:01<00:00,  2.11it/s]\n",
      "2023-03-16 17:16:06,089 - /Users/momo/Desktop/CoDiet/code/gCastle/gcastle/tests/../castle/algorithms/gradient/corl/torch/corl.py[line:175] - INFO: GPU is unavailable.\n",
      "2023-03-16 17:16:06,091 - /Users/momo/Desktop/CoDiet/code/gCastle/gcastle/tests/../castle/algorithms/gradient/corl/torch/corl.py[line:233] - INFO: Python version is 3.9.7\n",
      "2023-03-16 17:16:06,103 - /Users/momo/Desktop/CoDiet/code/gCastle/gcastle/tests/../castle/algorithms/gradient/corl/torch/corl.py[line:277] - INFO: Shape of input batch: 64, 6, 100\n",
      "2023-03-16 17:16:06,103 - /Users/momo/Desktop/CoDiet/code/gCastle/gcastle/tests/../castle/algorithms/gradient/corl/torch/corl.py[line:279] - INFO: Shape of input batch: 64, 6, 256\n",
      "2023-03-16 17:16:06,104 - /Users/momo/Desktop/CoDiet/code/gCastle/gcastle/tests/../castle/algorithms/gradient/corl/torch/corl.py[line:281] - INFO: Starting training.\n",
      "  0%|          | 0/3 [00:00<?, ?it/s]2023-03-16 17:16:06,588 - /Users/momo/Desktop/CoDiet/code/gCastle/gcastle/tests/../castle/algorithms/gradient/corl/torch/corl.py[line:371] - INFO: [iter 1] max_reward: 0.03301, max_reward_batch: 0.03301\n",
      "2023-03-16 17:16:06,589 - /Users/momo/Desktop/CoDiet/code/gCastle/gcastle/tests/../castle/algorithms/gradient/corl/torch/corl.py[line:377] - INFO: [iter 1] score_min -0.03301\n",
      "100%|██████████| 3/3 [00:01<00:00,  2.12it/s]\n",
      "2023-03-16 17:16:07,522 - /Users/momo/Desktop/CoDiet/code/gCastle/gcastle/tests/../castle/algorithms/gradient/corl/torch/corl.py[line:175] - INFO: GPU is unavailable.\n",
      "2023-03-16 17:16:07,524 - /Users/momo/Desktop/CoDiet/code/gCastle/gcastle/tests/../castle/algorithms/gradient/corl/torch/corl.py[line:233] - INFO: Python version is 3.9.7\n",
      "2023-03-16 17:16:07,533 - /Users/momo/Desktop/CoDiet/code/gCastle/gcastle/tests/../castle/algorithms/gradient/corl/torch/corl.py[line:277] - INFO: Shape of input batch: 64, 6, 100\n",
      "2023-03-16 17:16:07,533 - /Users/momo/Desktop/CoDiet/code/gCastle/gcastle/tests/../castle/algorithms/gradient/corl/torch/corl.py[line:279] - INFO: Shape of input batch: 64, 6, 256\n",
      "2023-03-16 17:16:07,533 - /Users/momo/Desktop/CoDiet/code/gCastle/gcastle/tests/../castle/algorithms/gradient/corl/torch/corl.py[line:281] - INFO: Starting training.\n",
      "  0%|          | 0/3 [00:00<?, ?it/s]2023-03-16 17:16:08,034 - /Users/momo/Desktop/CoDiet/code/gCastle/gcastle/tests/../castle/algorithms/gradient/corl/torch/corl.py[line:371] - INFO: [iter 1] max_reward: -1.832, max_reward_batch: -1.832\n",
      "2023-03-16 17:16:08,034 - /Users/momo/Desktop/CoDiet/code/gCastle/gcastle/tests/../castle/algorithms/gradient/corl/torch/corl.py[line:377] - INFO: [iter 1] score_min 1.832\n",
      "100%|██████████| 3/3 [00:01<00:00,  2.16it/s]\n",
      "2023-03-16 17:16:08,926 - /Users/momo/Desktop/CoDiet/code/gCastle/gcastle/tests/../castle/algorithms/gradient/corl/torch/corl.py[line:175] - INFO: GPU is unavailable.\n",
      "2023-03-16 17:16:08,928 - /Users/momo/Desktop/CoDiet/code/gCastle/gcastle/tests/../castle/algorithms/gradient/corl/torch/corl.py[line:233] - INFO: Python version is 3.9.7\n",
      "2023-03-16 17:16:08,937 - /Users/momo/Desktop/CoDiet/code/gCastle/gcastle/tests/../castle/algorithms/gradient/corl/torch/corl.py[line:277] - INFO: Shape of input batch: 64, 6, 100\n",
      "2023-03-16 17:16:08,937 - /Users/momo/Desktop/CoDiet/code/gCastle/gcastle/tests/../castle/algorithms/gradient/corl/torch/corl.py[line:279] - INFO: Shape of input batch: 64, 6, 256\n",
      "2023-03-16 17:16:08,937 - /Users/momo/Desktop/CoDiet/code/gCastle/gcastle/tests/../castle/algorithms/gradient/corl/torch/corl.py[line:281] - INFO: Starting training.\n",
      "  0%|          | 0/3 [00:00<?, ?it/s]2023-03-16 17:16:09,392 - /Users/momo/Desktop/CoDiet/code/gCastle/gcastle/tests/../castle/algorithms/gradient/corl/torch/corl.py[line:371] - INFO: [iter 1] max_reward: 0.03301, max_reward_batch: 0.03301\n",
      "2023-03-16 17:16:09,392 - /Users/momo/Desktop/CoDiet/code/gCastle/gcastle/tests/../castle/algorithms/gradient/corl/torch/corl.py[line:377] - INFO: [iter 1] score_min -0.03301\n",
      "100%|██████████| 3/3 [00:01<00:00,  2.26it/s]\n",
      "2023-03-16 17:16:10,267 - /Users/momo/Desktop/CoDiet/code/gCastle/gcastle/tests/../castle/algorithms/gradient/corl/torch/corl.py[line:175] - INFO: GPU is unavailable.\n",
      "2023-03-16 17:16:10,269 - /Users/momo/Desktop/CoDiet/code/gCastle/gcastle/tests/../castle/algorithms/gradient/corl/torch/corl.py[line:233] - INFO: Python version is 3.9.7\n",
      "2023-03-16 17:16:10,281 - /Users/momo/Desktop/CoDiet/code/gCastle/gcastle/tests/../castle/algorithms/gradient/corl/torch/corl.py[line:277] - INFO: Shape of input batch: 64, 6, 100\n",
      "2023-03-16 17:16:10,282 - /Users/momo/Desktop/CoDiet/code/gCastle/gcastle/tests/../castle/algorithms/gradient/corl/torch/corl.py[line:279] - INFO: Shape of input batch: 64, 6, 256\n",
      "2023-03-16 17:16:10,282 - /Users/momo/Desktop/CoDiet/code/gCastle/gcastle/tests/../castle/algorithms/gradient/corl/torch/corl.py[line:281] - INFO: Starting training.\n",
      "  0%|          | 0/3 [00:00<?, ?it/s]2023-03-16 17:16:10,691 - /Users/momo/Desktop/CoDiet/code/gCastle/gcastle/tests/../castle/algorithms/gradient/corl/torch/corl.py[line:371] - INFO: [iter 1] max_reward: -1.787, max_reward_batch: -1.787\n",
      "2023-03-16 17:16:10,692 - /Users/momo/Desktop/CoDiet/code/gCastle/gcastle/tests/../castle/algorithms/gradient/corl/torch/corl.py[line:377] - INFO: [iter 1] score_min 1.787\n",
      "100%|██████████| 3/3 [00:01<00:00,  2.48it/s]\n",
      "2023-03-16 17:16:11,493 - /Users/momo/Desktop/CoDiet/code/gCastle/gcastle/tests/../castle/algorithms/gradient/corl/torch/corl.py[line:175] - INFO: GPU is unavailable.\n",
      "2023-03-16 17:16:11,495 - /Users/momo/Desktop/CoDiet/code/gCastle/gcastle/tests/../castle/algorithms/gradient/corl/torch/corl.py[line:233] - INFO: Python version is 3.9.7\n",
      "2023-03-16 17:16:11,508 - /Users/momo/Desktop/CoDiet/code/gCastle/gcastle/tests/../castle/algorithms/gradient/corl/torch/corl.py[line:277] - INFO: Shape of input batch: 64, 6, 100\n",
      "2023-03-16 17:16:11,508 - /Users/momo/Desktop/CoDiet/code/gCastle/gcastle/tests/../castle/algorithms/gradient/corl/torch/corl.py[line:279] - INFO: Shape of input batch: 64, 6, 256\n",
      "2023-03-16 17:16:11,509 - /Users/momo/Desktop/CoDiet/code/gCastle/gcastle/tests/../castle/algorithms/gradient/corl/torch/corl.py[line:281] - INFO: Starting training.\n",
      "  0%|          | 0/3 [00:00<?, ?it/s]2023-03-16 17:16:11,921 - /Users/momo/Desktop/CoDiet/code/gCastle/gcastle/tests/../castle/algorithms/gradient/corl/torch/corl.py[line:371] - INFO: [iter 1] max_reward: 0.03301, max_reward_batch: 0.03301\n",
      "2023-03-16 17:16:11,922 - /Users/momo/Desktop/CoDiet/code/gCastle/gcastle/tests/../castle/algorithms/gradient/corl/torch/corl.py[line:377] - INFO: [iter 1] score_min -0.03301\n",
      "100%|██████████| 3/3 [00:01<00:00,  2.47it/s]\n",
      "2023-03-16 17:16:12,728 - /Users/momo/Desktop/CoDiet/code/gCastle/gcastle/tests/../castle/algorithms/gradient/corl/torch/corl.py[line:175] - INFO: GPU is unavailable.\n",
      "2023-03-16 17:16:12,730 - /Users/momo/Desktop/CoDiet/code/gCastle/gcastle/tests/../castle/algorithms/gradient/corl/torch/corl.py[line:233] - INFO: Python version is 3.9.7\n",
      "2023-03-16 17:16:12,740 - /Users/momo/Desktop/CoDiet/code/gCastle/gcastle/tests/../castle/algorithms/gradient/corl/torch/corl.py[line:277] - INFO: Shape of input batch: 64, 6, 100\n",
      "2023-03-16 17:16:12,740 - /Users/momo/Desktop/CoDiet/code/gCastle/gcastle/tests/../castle/algorithms/gradient/corl/torch/corl.py[line:279] - INFO: Shape of input batch: 64, 6, 256\n",
      "2023-03-16 17:16:12,741 - /Users/momo/Desktop/CoDiet/code/gCastle/gcastle/tests/../castle/algorithms/gradient/corl/torch/corl.py[line:281] - INFO: Starting training.\n",
      "  0%|          | 0/3 [00:00<?, ?it/s]2023-03-16 17:16:13,125 - /Users/momo/Desktop/CoDiet/code/gCastle/gcastle/tests/../castle/algorithms/gradient/corl/torch/corl.py[line:371] - INFO: [iter 1] max_reward: -1.832, max_reward_batch: -1.832\n",
      "2023-03-16 17:16:13,125 - /Users/momo/Desktop/CoDiet/code/gCastle/gcastle/tests/../castle/algorithms/gradient/corl/torch/corl.py[line:377] - INFO: [iter 1] score_min 1.832\n",
      "100%|██████████| 3/3 [00:01<00:00,  2.68it/s]\n",
      "2023-03-16 17:16:13,861 - /Users/momo/Desktop/CoDiet/code/gCastle/gcastle/tests/../castle/algorithms/gradient/corl/torch/corl.py[line:175] - INFO: GPU is unavailable.\n",
      "2023-03-16 17:16:13,862 - /Users/momo/Desktop/CoDiet/code/gCastle/gcastle/tests/../castle/algorithms/gradient/corl/torch/corl.py[line:233] - INFO: Python version is 3.9.7\n",
      "2023-03-16 17:16:13,872 - /Users/momo/Desktop/CoDiet/code/gCastle/gcastle/tests/../castle/algorithms/gradient/corl/torch/corl.py[line:277] - INFO: Shape of input batch: 64, 6, 100\n",
      "2023-03-16 17:16:13,872 - /Users/momo/Desktop/CoDiet/code/gCastle/gcastle/tests/../castle/algorithms/gradient/corl/torch/corl.py[line:279] - INFO: Shape of input batch: 64, 6, 256\n",
      "2023-03-16 17:16:13,873 - /Users/momo/Desktop/CoDiet/code/gCastle/gcastle/tests/../castle/algorithms/gradient/corl/torch/corl.py[line:281] - INFO: Starting training.\n",
      "  0%|          | 0/3 [00:00<?, ?it/s]2023-03-16 17:16:14,258 - /Users/momo/Desktop/CoDiet/code/gCastle/gcastle/tests/../castle/algorithms/gradient/corl/torch/corl.py[line:371] - INFO: [iter 1] max_reward: 0.03301, max_reward_batch: 0.03301\n",
      "2023-03-16 17:16:14,258 - /Users/momo/Desktop/CoDiet/code/gCastle/gcastle/tests/../castle/algorithms/gradient/corl/torch/corl.py[line:377] - INFO: [iter 1] score_min -0.03301\n",
      "100%|██████████| 3/3 [00:01<00:00,  2.68it/s]\n",
      "2023-03-16 17:16:14,995 - /Users/momo/Desktop/CoDiet/code/gCastle/gcastle/tests/../castle/algorithms/gradient/corl/torch/corl.py[line:175] - INFO: GPU is unavailable.\n",
      "2023-03-16 17:16:14,997 - /Users/momo/Desktop/CoDiet/code/gCastle/gcastle/tests/../castle/algorithms/gradient/corl/torch/corl.py[line:233] - INFO: Python version is 3.9.7\n",
      "2023-03-16 17:16:15,007 - /Users/momo/Desktop/CoDiet/code/gCastle/gcastle/tests/../castle/algorithms/gradient/corl/torch/corl.py[line:277] - INFO: Shape of input batch: 64, 6, 100\n",
      "2023-03-16 17:16:15,008 - /Users/momo/Desktop/CoDiet/code/gCastle/gcastle/tests/../castle/algorithms/gradient/corl/torch/corl.py[line:279] - INFO: Shape of input batch: 64, 6, 256\n",
      "2023-03-16 17:16:15,008 - /Users/momo/Desktop/CoDiet/code/gCastle/gcastle/tests/../castle/algorithms/gradient/corl/torch/corl.py[line:281] - INFO: Starting training.\n",
      "  0%|          | 0/3 [00:00<?, ?it/s]2023-03-16 17:16:15,332 - /Users/momo/Desktop/CoDiet/code/gCastle/gcastle/tests/../castle/algorithms/gradient/corl/torch/corl.py[line:371] - INFO: [iter 1] max_reward: -1.832, max_reward_batch: -1.832\n",
      "2023-03-16 17:16:15,332 - /Users/momo/Desktop/CoDiet/code/gCastle/gcastle/tests/../castle/algorithms/gradient/corl/torch/corl.py[line:377] - INFO: [iter 1] score_min 1.832\n",
      "100%|██████████| 3/3 [00:00<00:00,  3.19it/s]\n",
      "2023-03-16 17:16:15,950 - /Users/momo/Desktop/CoDiet/code/gCastle/gcastle/tests/../castle/algorithms/gradient/corl/torch/corl.py[line:175] - INFO: GPU is unavailable.\n",
      "2023-03-16 17:16:15,952 - /Users/momo/Desktop/CoDiet/code/gCastle/gcastle/tests/../castle/algorithms/gradient/corl/torch/corl.py[line:233] - INFO: Python version is 3.9.7\n",
      "2023-03-16 17:16:15,962 - /Users/momo/Desktop/CoDiet/code/gCastle/gcastle/tests/../castle/algorithms/gradient/corl/torch/corl.py[line:277] - INFO: Shape of input batch: 64, 6, 100\n",
      "2023-03-16 17:16:15,963 - /Users/momo/Desktop/CoDiet/code/gCastle/gcastle/tests/../castle/algorithms/gradient/corl/torch/corl.py[line:279] - INFO: Shape of input batch: 64, 6, 256\n",
      "2023-03-16 17:16:15,963 - /Users/momo/Desktop/CoDiet/code/gCastle/gcastle/tests/../castle/algorithms/gradient/corl/torch/corl.py[line:281] - INFO: Starting training.\n",
      "  0%|          | 0/3 [00:00<?, ?it/s]2023-03-16 17:16:16,278 - /Users/momo/Desktop/CoDiet/code/gCastle/gcastle/tests/../castle/algorithms/gradient/corl/torch/corl.py[line:371] - INFO: [iter 1] max_reward: 0.03301, max_reward_batch: 0.03301\n",
      "2023-03-16 17:16:16,279 - /Users/momo/Desktop/CoDiet/code/gCastle/gcastle/tests/../castle/algorithms/gradient/corl/torch/corl.py[line:377] - INFO: [iter 1] score_min -0.03301\n",
      "100%|██████████| 3/3 [00:00<00:00,  3.29it/s]\n",
      "2023-03-16 17:16:16,877 - /Users/momo/Desktop/CoDiet/code/gCastle/gcastle/tests/../castle/algorithms/gradient/corl/torch/corl.py[line:175] - INFO: GPU is unavailable.\n",
      "2023-03-16 17:16:16,879 - /Users/momo/Desktop/CoDiet/code/gCastle/gcastle/tests/../castle/algorithms/gradient/corl/torch/corl.py[line:233] - INFO: Python version is 3.9.7\n",
      "2023-03-16 17:16:16,887 - /Users/momo/Desktop/CoDiet/code/gCastle/gcastle/tests/../castle/algorithms/gradient/corl/torch/corl.py[line:277] - INFO: Shape of input batch: 64, 6, 100\n",
      "2023-03-16 17:16:16,887 - /Users/momo/Desktop/CoDiet/code/gCastle/gcastle/tests/../castle/algorithms/gradient/corl/torch/corl.py[line:279] - INFO: Shape of input batch: 64, 6, 256\n",
      "2023-03-16 17:16:16,887 - /Users/momo/Desktop/CoDiet/code/gCastle/gcastle/tests/../castle/algorithms/gradient/corl/torch/corl.py[line:281] - INFO: Starting training.\n",
      "  0%|          | 0/3 [00:00<?, ?it/s]2023-03-16 17:16:17,171 - /Users/momo/Desktop/CoDiet/code/gCastle/gcastle/tests/../castle/algorithms/gradient/corl/torch/corl.py[line:371] - INFO: [iter 1] max_reward: -1.911, max_reward_batch: -1.911\n",
      "2023-03-16 17:16:17,172 - /Users/momo/Desktop/CoDiet/code/gCastle/gcastle/tests/../castle/algorithms/gradient/corl/torch/corl.py[line:377] - INFO: [iter 1] score_min 1.911\n",
      "100%|██████████| 3/3 [00:00<00:00,  3.61it/s]\n",
      "2023-03-16 17:16:17,722 - /Users/momo/Desktop/CoDiet/code/gCastle/gcastle/tests/../castle/algorithms/gradient/corl/torch/corl.py[line:175] - INFO: GPU is unavailable.\n",
      "2023-03-16 17:16:17,723 - /Users/momo/Desktop/CoDiet/code/gCastle/gcastle/tests/../castle/algorithms/gradient/corl/torch/corl.py[line:233] - INFO: Python version is 3.9.7\n",
      "2023-03-16 17:16:17,731 - /Users/momo/Desktop/CoDiet/code/gCastle/gcastle/tests/../castle/algorithms/gradient/corl/torch/corl.py[line:277] - INFO: Shape of input batch: 64, 6, 100\n",
      "2023-03-16 17:16:17,732 - /Users/momo/Desktop/CoDiet/code/gCastle/gcastle/tests/../castle/algorithms/gradient/corl/torch/corl.py[line:279] - INFO: Shape of input batch: 64, 6, 256\n",
      "2023-03-16 17:16:17,732 - /Users/momo/Desktop/CoDiet/code/gCastle/gcastle/tests/../castle/algorithms/gradient/corl/torch/corl.py[line:281] - INFO: Starting training.\n",
      "  0%|          | 0/3 [00:00<?, ?it/s]2023-03-16 17:16:18,017 - /Users/momo/Desktop/CoDiet/code/gCastle/gcastle/tests/../castle/algorithms/gradient/corl/torch/corl.py[line:371] - INFO: [iter 1] max_reward: 0.03301, max_reward_batch: 0.03301\n",
      "2023-03-16 17:16:18,017 - /Users/momo/Desktop/CoDiet/code/gCastle/gcastle/tests/../castle/algorithms/gradient/corl/torch/corl.py[line:377] - INFO: [iter 1] score_min -0.03301\n",
      "100%|██████████| 3/3 [00:00<00:00,  3.37it/s]\n",
      "2023-03-16 17:16:18,624 - /Users/momo/Desktop/CoDiet/code/gCastle/gcastle/tests/../castle/algorithms/gradient/corl/torch/corl.py[line:175] - INFO: GPU is unavailable.\n",
      "2023-03-16 17:16:18,626 - /Users/momo/Desktop/CoDiet/code/gCastle/gcastle/tests/../castle/algorithms/gradient/corl/torch/corl.py[line:233] - INFO: Python version is 3.9.7\n",
      "2023-03-16 17:16:18,639 - /Users/momo/Desktop/CoDiet/code/gCastle/gcastle/tests/../castle/algorithms/gradient/corl/torch/corl.py[line:277] - INFO: Shape of input batch: 64, 6, 100\n",
      "2023-03-16 17:16:18,639 - /Users/momo/Desktop/CoDiet/code/gCastle/gcastle/tests/../castle/algorithms/gradient/corl/torch/corl.py[line:279] - INFO: Shape of input batch: 64, 6, 256\n",
      "2023-03-16 17:16:18,639 - /Users/momo/Desktop/CoDiet/code/gCastle/gcastle/tests/../castle/algorithms/gradient/corl/torch/corl.py[line:281] - INFO: Starting training.\n",
      "  0%|          | 0/3 [00:00<?, ?it/s]2023-03-16 17:16:19,042 - /Users/momo/Desktop/CoDiet/code/gCastle/gcastle/tests/../castle/algorithms/gradient/corl/torch/corl.py[line:371] - INFO: [iter 1] max_reward: -1.787, max_reward_batch: -1.787\n",
      "2023-03-16 17:16:19,043 - /Users/momo/Desktop/CoDiet/code/gCastle/gcastle/tests/../castle/algorithms/gradient/corl/torch/corl.py[line:377] - INFO: [iter 1] score_min 1.787\n",
      "100%|██████████| 3/3 [00:01<00:00,  2.54it/s]\n",
      "2023-03-16 17:16:19,825 - /Users/momo/Desktop/CoDiet/code/gCastle/gcastle/tests/../castle/algorithms/gradient/corl/torch/corl.py[line:175] - INFO: GPU is unavailable.\n",
      "2023-03-16 17:16:19,826 - /Users/momo/Desktop/CoDiet/code/gCastle/gcastle/tests/../castle/algorithms/gradient/corl/torch/corl.py[line:233] - INFO: Python version is 3.9.7\n",
      "2023-03-16 17:16:19,839 - /Users/momo/Desktop/CoDiet/code/gCastle/gcastle/tests/../castle/algorithms/gradient/corl/torch/corl.py[line:277] - INFO: Shape of input batch: 64, 6, 100\n",
      "2023-03-16 17:16:19,839 - /Users/momo/Desktop/CoDiet/code/gCastle/gcastle/tests/../castle/algorithms/gradient/corl/torch/corl.py[line:279] - INFO: Shape of input batch: 64, 6, 256\n",
      "2023-03-16 17:16:19,840 - /Users/momo/Desktop/CoDiet/code/gCastle/gcastle/tests/../castle/algorithms/gradient/corl/torch/corl.py[line:281] - INFO: Starting training.\n",
      "  0%|          | 0/3 [00:00<?, ?it/s]2023-03-16 17:16:20,266 - /Users/momo/Desktop/CoDiet/code/gCastle/gcastle/tests/../castle/algorithms/gradient/corl/torch/corl.py[line:371] - INFO: [iter 1] max_reward: 0.03301, max_reward_batch: 0.03301\n",
      "2023-03-16 17:16:20,267 - /Users/momo/Desktop/CoDiet/code/gCastle/gcastle/tests/../castle/algorithms/gradient/corl/torch/corl.py[line:377] - INFO: [iter 1] score_min -0.03301\n",
      "100%|██████████| 3/3 [00:01<00:00,  2.42it/s]\n",
      "2023-03-16 17:16:21,081 - /Users/momo/Desktop/CoDiet/code/gCastle/gcastle/tests/../castle/algorithms/gradient/corl/torch/corl.py[line:175] - INFO: GPU is unavailable.\n",
      "2023-03-16 17:16:21,083 - /Users/momo/Desktop/CoDiet/code/gCastle/gcastle/tests/../castle/algorithms/gradient/corl/torch/corl.py[line:233] - INFO: Python version is 3.9.7\n",
      "2023-03-16 17:16:21,093 - /Users/momo/Desktop/CoDiet/code/gCastle/gcastle/tests/../castle/algorithms/gradient/corl/torch/corl.py[line:277] - INFO: Shape of input batch: 64, 6, 100\n",
      "2023-03-16 17:16:21,094 - /Users/momo/Desktop/CoDiet/code/gCastle/gcastle/tests/../castle/algorithms/gradient/corl/torch/corl.py[line:279] - INFO: Shape of input batch: 64, 6, 256\n",
      "2023-03-16 17:16:21,094 - /Users/momo/Desktop/CoDiet/code/gCastle/gcastle/tests/../castle/algorithms/gradient/corl/torch/corl.py[line:281] - INFO: Starting training.\n",
      "  0%|          | 0/3 [00:00<?, ?it/s]2023-03-16 17:16:21,478 - /Users/momo/Desktop/CoDiet/code/gCastle/gcastle/tests/../castle/algorithms/gradient/corl/torch/corl.py[line:371] - INFO: [iter 1] max_reward: -1.787, max_reward_batch: -1.787\n",
      "2023-03-16 17:16:21,479 - /Users/momo/Desktop/CoDiet/code/gCastle/gcastle/tests/../castle/algorithms/gradient/corl/torch/corl.py[line:377] - INFO: [iter 1] score_min 1.787\n",
      "100%|██████████| 3/3 [00:01<00:00,  2.64it/s]\n",
      "2023-03-16 17:16:22,232 - /Users/momo/Desktop/CoDiet/code/gCastle/gcastle/tests/../castle/algorithms/gradient/corl/torch/corl.py[line:175] - INFO: GPU is unavailable.\n",
      "2023-03-16 17:16:22,234 - /Users/momo/Desktop/CoDiet/code/gCastle/gcastle/tests/../castle/algorithms/gradient/corl/torch/corl.py[line:233] - INFO: Python version is 3.9.7\n",
      "2023-03-16 17:16:22,244 - /Users/momo/Desktop/CoDiet/code/gCastle/gcastle/tests/../castle/algorithms/gradient/corl/torch/corl.py[line:277] - INFO: Shape of input batch: 64, 6, 100\n",
      "2023-03-16 17:16:22,244 - /Users/momo/Desktop/CoDiet/code/gCastle/gcastle/tests/../castle/algorithms/gradient/corl/torch/corl.py[line:279] - INFO: Shape of input batch: 64, 6, 256\n",
      "2023-03-16 17:16:22,245 - /Users/momo/Desktop/CoDiet/code/gCastle/gcastle/tests/../castle/algorithms/gradient/corl/torch/corl.py[line:281] - INFO: Starting training.\n",
      "  0%|          | 0/3 [00:00<?, ?it/s]2023-03-16 17:16:22,650 - /Users/momo/Desktop/CoDiet/code/gCastle/gcastle/tests/../castle/algorithms/gradient/corl/torch/corl.py[line:371] - INFO: [iter 1] max_reward: 0.03301, max_reward_batch: 0.03301\n",
      "2023-03-16 17:16:22,651 - /Users/momo/Desktop/CoDiet/code/gCastle/gcastle/tests/../castle/algorithms/gradient/corl/torch/corl.py[line:377] - INFO: [iter 1] score_min -0.03301\n",
      "100%|██████████| 3/3 [00:01<00:00,  2.57it/s]\n",
      "2023-03-16 17:16:23,412 - /Users/momo/Desktop/CoDiet/code/gCastle/gcastle/tests/../castle/algorithms/gradient/corl/torch/corl.py[line:175] - INFO: GPU is unavailable.\n",
      "2023-03-16 17:16:23,414 - /Users/momo/Desktop/CoDiet/code/gCastle/gcastle/tests/../castle/algorithms/gradient/corl/torch/corl.py[line:233] - INFO: Python version is 3.9.7\n",
      "2023-03-16 17:16:23,424 - /Users/momo/Desktop/CoDiet/code/gCastle/gcastle/tests/../castle/algorithms/gradient/corl/torch/corl.py[line:277] - INFO: Shape of input batch: 64, 6, 100\n",
      "2023-03-16 17:16:23,425 - /Users/momo/Desktop/CoDiet/code/gCastle/gcastle/tests/../castle/algorithms/gradient/corl/torch/corl.py[line:279] - INFO: Shape of input batch: 64, 6, 256\n",
      "2023-03-16 17:16:23,425 - /Users/momo/Desktop/CoDiet/code/gCastle/gcastle/tests/../castle/algorithms/gradient/corl/torch/corl.py[line:281] - INFO: Starting training.\n",
      "  0%|          | 0/3 [00:00<?, ?it/s]2023-03-16 17:16:23,727 - /Users/momo/Desktop/CoDiet/code/gCastle/gcastle/tests/../castle/algorithms/gradient/corl/torch/corl.py[line:371] - INFO: [iter 1] max_reward: -1.907, max_reward_batch: -1.907\n",
      "2023-03-16 17:16:23,728 - /Users/momo/Desktop/CoDiet/code/gCastle/gcastle/tests/../castle/algorithms/gradient/corl/torch/corl.py[line:377] - INFO: [iter 1] score_min 1.907\n",
      "100%|██████████| 3/3 [00:00<00:00,  3.38it/s]\n",
      "2023-03-16 17:16:24,314 - /Users/momo/Desktop/CoDiet/code/gCastle/gcastle/tests/../castle/algorithms/gradient/corl/torch/corl.py[line:175] - INFO: GPU is unavailable.\n",
      "2023-03-16 17:16:24,317 - /Users/momo/Desktop/CoDiet/code/gCastle/gcastle/tests/../castle/algorithms/gradient/corl/torch/corl.py[line:233] - INFO: Python version is 3.9.7\n",
      "2023-03-16 17:16:24,327 - /Users/momo/Desktop/CoDiet/code/gCastle/gcastle/tests/../castle/algorithms/gradient/corl/torch/corl.py[line:277] - INFO: Shape of input batch: 64, 6, 100\n",
      "2023-03-16 17:16:24,327 - /Users/momo/Desktop/CoDiet/code/gCastle/gcastle/tests/../castle/algorithms/gradient/corl/torch/corl.py[line:279] - INFO: Shape of input batch: 64, 6, 256\n",
      "2023-03-16 17:16:24,328 - /Users/momo/Desktop/CoDiet/code/gCastle/gcastle/tests/../castle/algorithms/gradient/corl/torch/corl.py[line:281] - INFO: Starting training.\n",
      "  0%|          | 0/3 [00:00<?, ?it/s]2023-03-16 17:16:24,630 - /Users/momo/Desktop/CoDiet/code/gCastle/gcastle/tests/../castle/algorithms/gradient/corl/torch/corl.py[line:371] - INFO: [iter 1] max_reward: 0.03301, max_reward_batch: 0.03301\n",
      "2023-03-16 17:16:24,631 - /Users/momo/Desktop/CoDiet/code/gCastle/gcastle/tests/../castle/algorithms/gradient/corl/torch/corl.py[line:377] - INFO: [iter 1] score_min -0.03301\n",
      "100%|██████████| 3/3 [00:00<00:00,  3.31it/s]\n",
      "2023-03-16 17:16:25,238 - /Users/momo/Desktop/CoDiet/code/gCastle/gcastle/tests/../castle/algorithms/gradient/corl/torch/corl.py[line:175] - INFO: GPU is unavailable.\n",
      "2023-03-16 17:16:25,239 - /Users/momo/Desktop/CoDiet/code/gCastle/gcastle/tests/../castle/algorithms/gradient/corl/torch/corl.py[line:233] - INFO: Python version is 3.9.7\n",
      "2023-03-16 17:16:25,247 - /Users/momo/Desktop/CoDiet/code/gCastle/gcastle/tests/../castle/algorithms/gradient/corl/torch/corl.py[line:277] - INFO: Shape of input batch: 64, 6, 100\n",
      "2023-03-16 17:16:25,247 - /Users/momo/Desktop/CoDiet/code/gCastle/gcastle/tests/../castle/algorithms/gradient/corl/torch/corl.py[line:279] - INFO: Shape of input batch: 64, 6, 256\n",
      "2023-03-16 17:16:25,248 - /Users/momo/Desktop/CoDiet/code/gCastle/gcastle/tests/../castle/algorithms/gradient/corl/torch/corl.py[line:281] - INFO: Starting training.\n",
      "  0%|          | 0/3 [00:00<?, ?it/s]2023-03-16 17:16:25,520 - /Users/momo/Desktop/CoDiet/code/gCastle/gcastle/tests/../castle/algorithms/gradient/corl/torch/corl.py[line:371] - INFO: [iter 1] max_reward: -1.832, max_reward_batch: -1.832\n",
      "2023-03-16 17:16:25,520 - /Users/momo/Desktop/CoDiet/code/gCastle/gcastle/tests/../castle/algorithms/gradient/corl/torch/corl.py[line:377] - INFO: [iter 1] score_min 1.832\n",
      "100%|██████████| 3/3 [00:00<00:00,  3.80it/s]\n",
      "2023-03-16 17:16:26,040 - /Users/momo/Desktop/CoDiet/code/gCastle/gcastle/tests/../castle/algorithms/gradient/corl/torch/corl.py[line:175] - INFO: GPU is unavailable.\n",
      "2023-03-16 17:16:26,041 - /Users/momo/Desktop/CoDiet/code/gCastle/gcastle/tests/../castle/algorithms/gradient/corl/torch/corl.py[line:233] - INFO: Python version is 3.9.7\n",
      "2023-03-16 17:16:26,049 - /Users/momo/Desktop/CoDiet/code/gCastle/gcastle/tests/../castle/algorithms/gradient/corl/torch/corl.py[line:277] - INFO: Shape of input batch: 64, 6, 100\n",
      "2023-03-16 17:16:26,049 - /Users/momo/Desktop/CoDiet/code/gCastle/gcastle/tests/../castle/algorithms/gradient/corl/torch/corl.py[line:279] - INFO: Shape of input batch: 64, 6, 256\n",
      "2023-03-16 17:16:26,050 - /Users/momo/Desktop/CoDiet/code/gCastle/gcastle/tests/../castle/algorithms/gradient/corl/torch/corl.py[line:281] - INFO: Starting training.\n",
      "  0%|          | 0/3 [00:00<?, ?it/s]2023-03-16 17:16:26,330 - /Users/momo/Desktop/CoDiet/code/gCastle/gcastle/tests/../castle/algorithms/gradient/corl/torch/corl.py[line:371] - INFO: [iter 1] max_reward: 0.03301, max_reward_batch: 0.03301\n",
      "2023-03-16 17:16:26,331 - /Users/momo/Desktop/CoDiet/code/gCastle/gcastle/tests/../castle/algorithms/gradient/corl/torch/corl.py[line:377] - INFO: [iter 1] score_min -0.03301\n",
      "100%|██████████| 3/3 [00:00<00:00,  3.79it/s]\n"
     ]
    }
   ],
   "source": [
    "for d in combined_params(p_corl):\n",
    "    try:\n",
    "        algo = CORL(**d, iteration=3)\n",
    "        algo.learn(data=x)\n",
    "    except Exception:\n",
    "        error_params.append(d)\n",
    "        print(traceback.format_exc())"
   ]
  },
  {
   "cell_type": "code",
   "execution_count": 11,
   "metadata": {},
   "outputs": [
    {
     "data": {
      "image/png": "[encoded data removed]",
      "text/plain": [
       "<Figure size 576x216 with 4 Axes>"
      ]
     },
     "metadata": {
      "needs_background": "light"
     },
     "output_type": "display_data"
    },
    {
     "name": "stdout",
     "output_type": "stream",
     "text": [
      "{'fdr': 0.0833, 'tpr': 0.8462, 'fpr': 0.5, 'shd': 2, 'nnz': 12, 'precision': 0.9167, 'recall': 0.8462, 'F1': 0.88, 'gscore': 0.7692}\n"
     ]
    }
   ],
   "source": [
    "# plot est_dag and true_dag\n",
    "GraphDAG(algo.causal_matrix, true_dag)\n",
    "\n",
    "# calculate accuracy\n",
    "mm = MetricsDAG(algo.causal_matrix, true_dag)\n",
    "print(mm.metrics)\n",
    "results.append(mm.metrics)"
   ]
  },
  {
   "cell_type": "code",
   "execution_count": null,
   "metadata": {},
   "outputs": [],
   "source": [
    "for d in combined_params(consts.DIRECT_LINGAM_VALID_PARAMS):\n",
    "    print(d)\n",
    "    print(f\"{'=' * 50}\")\n",
    "    try:\n",
    "        DLG = DirectLiNGAM(**d)\n",
    "        DLG.learn(data=x)\n",
    "    except Exception:\n",
    "        error_params.append(d)\n",
    "        print(traceback.format_exc())"
   ]
  },
  {
   "cell_type": "code",
   "execution_count": null,
   "metadata": {},
   "outputs": [],
   "source": [
    "# plot est_dag and true_dag\n",
    "GraphDAG(DLG.causal_matrix, true_dag)\n",
    "\n",
    "# calculate accuracy\n",
    "mm = MetricsDAG(DLG.causal_matrix, true_dag)\n",
    "print(mm.metrics)\n",
    "results.append(mm.metrics)"
   ]
  },
  {
   "cell_type": "code",
   "execution_count": 5,
   "metadata": {},
   "outputs": [
    {
     "name": "stdout",
     "output_type": "stream",
     "text": [
      "{'criterion': 'bic', 'method': 'scatter'}\n",
      "====================================================================================================\n"
     ]
    }
   ],
   "source": [
    "d = {'criterion': 'bic', 'method': 'scatter'}\n",
    "print(d)\n",
    "print(f\"{'=' * 100}\")\n",
    "try:\n",
    "    GES_1 = GES(**d)\n",
    "    GES_1.learn(data=x)\n",
    "except Exception:\n",
    "    error_params.append(d)\n",
    "    print(traceback.format_exc())"
   ]
  },
  {
   "cell_type": "code",
   "execution_count": 6,
   "metadata": {},
   "outputs": [
    {
     "data": {
      "image/png": "[encoded data removed]",
      "text/plain": [
       "<Figure size 576x216 with 4 Axes>"
      ]
     },
     "metadata": {
      "needs_background": "light"
     },
     "output_type": "display_data"
    },
    {
     "name": "stdout",
     "output_type": "stream",
     "text": [
      "{'fdr': 0.7143, 'tpr': 0.3077, 'fpr': 5.0, 'shd': 11, 'nnz': 14, 'precision': 0.2105, 'recall': 0.3077, 'F1': 0.25, 'gscore': 0.0}\n"
     ]
    }
   ],
   "source": [
    "# plot est_dag and true_dag\n",
    "GraphDAG(GES_1.causal_matrix, true_dag)\n",
    "\n",
    "# calculate accuracy\n",
    "mm = MetricsDAG(GES_1.causal_matrix, true_dag)\n",
    "print(mm.metrics)\n",
    "results.append(mm)"
   ]
  },
  {
   "cell_type": "code",
   "execution_count": 5,
   "metadata": {},
   "outputs": [
    {
     "name": "stdout",
     "output_type": "stream",
     "text": [
      "{'criterion': 'bic', 'method': 'r2'}\n",
      "====================================================================================================\n"
     ]
    }
   ],
   "source": [
    "d = {'criterion': 'bic', 'method': 'r2'}\n",
    "print(d)\n",
    "print(f\"{'=' * 100}\")\n",
    "try:\n",
    "    GES_2 = GES(**d)\n",
    "    GES_2.learn(data=x)\n",
    "except Exception:\n",
    "    error_params.append(d)\n",
    "    print(traceback.format_exc())"
   ]
  },
  {
   "cell_type": "code",
   "execution_count": 6,
   "metadata": {},
   "outputs": [
    {
     "data": {
      "image/png": "[encoded data removed]",
      "text/plain": [
       "<Figure size 576x216 with 4 Axes>"
      ]
     },
     "metadata": {
      "needs_background": "light"
     },
     "output_type": "display_data"
    },
    {
     "name": "stdout",
     "output_type": "stream",
     "text": [
      "{'fdr': 0.0, 'tpr': 0.0, 'fpr': 0.0, 'shd': 13, 'nnz': 0, 'precision': nan, 'recall': 0.0, 'F1': nan, 'gscore': 0.0}\n"
     ]
    },
    {
     "name": "stderr",
     "output_type": "stream",
     "text": [
      "/Users/momo/Desktop/CoDiet/code/gCastle/gcastle/tests/../castle/metrics/evaluation.py:224: RuntimeWarning: invalid value encountered in scalar divide\n",
      "  precision = TP/TP_FP\n"
     ]
    }
   ],
   "source": [
    "# plot est_dag and true_dag\n",
    "GraphDAG(GES_2.causal_matrix, true_dag)\n",
    "\n",
    "# calculate accuracy\n",
    "mm = MetricsDAG(GES_2.causal_matrix, true_dag)\n",
    "print(mm.metrics)\n",
    "results.append(mm)"
   ]
  },
  {
   "cell_type": "code",
   "execution_count": 20,
   "metadata": {},
   "outputs": [
    {
     "name": "stdout",
     "output_type": "stream",
     "text": [
      "{'criterion': 'bdeu'}\n",
      "====================================================================================================\n"
     ]
    }
   ],
   "source": [
    "d = {'criterion': 'bdeu'}\n",
    "print(d)\n",
    "print(f\"{'=' * 100}\")\n",
    "try:\n",
    "    GES_3 = GES(**d)\n",
    "    GES_3.learn(data=x)\n",
    "except Exception:\n",
    "    error_params.append(d)\n",
    "    print(traceback.format_exc())"
   ]
  },
  {
   "cell_type": "code",
   "execution_count": 21,
   "metadata": {},
   "outputs": [
    {
     "data": {
      "image/png": "[encoded data removed]",
      "text/plain": [
       "<Figure size 576x216 with 4 Axes>"
      ]
     },
     "metadata": {
      "needs_background": "light"
     },
     "output_type": "display_data"
    },
    {
     "name": "stdout",
     "output_type": "stream",
     "text": [
      "{'fdr': 0.0, 'tpr': 0.0, 'fpr': 0.0, 'shd': 13, 'nnz': 0, 'precision': nan, 'recall': 0.0, 'F1': nan, 'gscore': 0.0}\n"
     ]
    }
   ],
   "source": [
    "# plot est_dag and true_dag\n",
    "GraphDAG(GES_3.causal_matrix, true_dag)\n",
    "\n",
    "# calculate accuracy\n",
    "mm = MetricsDAG(GES_3.causal_matrix, true_dag)\n",
    "print(mm.metrics)\n",
    "results.append(mm)"
   ]
  },
  {
   "cell_type": "code",
   "execution_count": 7,
   "metadata": {},
   "outputs": [
    {
     "name": "stderr",
     "output_type": "stream",
     "text": [
      "2023-03-16 17:52:39,800 - /Users/momo/Desktop/CoDiet/code/gCastle/gcastle/tests/../castle/algorithms/gradient/notears/torch/golem.py[line:122] - INFO: GPU is unavailable.\n",
      "2023-03-16 17:52:39,805 - /Users/momo/Desktop/CoDiet/code/gCastle/gcastle/tests/../castle/algorithms/gradient/notears/torch/golem.py[line:207] - INFO: Started training for 3 iterations.\n",
      "2023-03-16 17:52:39,933 - /Users/momo/Desktop/CoDiet/code/gCastle/gcastle/tests/../castle/algorithms/gradient/notears/torch/golem.py[line:220] - INFO: [Iter 0] score=36.402, likelihood=36.402, h=0.0e+00\n"
     ]
    },
    {
     "name": "stdout",
     "output_type": "stream",
     "text": [
      "{'device_type': 'cpu'}\n",
      "====================================================================================================\n"
     ]
    }
   ],
   "source": [
    "p_golem = add_params()\n",
    "for d in combined_params(p_golem):\n",
    "    print(d)\n",
    "    print(f\"{'=' * 100}\")\n",
    "    try:\n",
    "        golem = GOLEM(**d, num_iter=3)\n",
    "        golem.learn(data=x)\n",
    "    except Exception:\n",
    "        error_params.append(d)\n",
    "        print(traceback.format_exc())"
   ]
  },
  {
   "cell_type": "code",
   "execution_count": 10,
   "metadata": {},
   "outputs": [
    {
     "name": "stderr",
     "output_type": "stream",
     "text": [
      "2023-03-16 17:59:30,163 - /Users/momo/Desktop/CoDiet/code/gCastle/gcastle/tests/../castle/algorithms/gradient/notears/torch/golem.py[line:122] - INFO: GPU is unavailable.\n",
      "2023-03-16 17:59:30,167 - /Users/momo/Desktop/CoDiet/code/gCastle/gcastle/tests/../castle/algorithms/gradient/notears/torch/golem.py[line:207] - INFO: Started training for 3 iterations.\n",
      "2023-03-16 17:59:30,168 - /Users/momo/Desktop/CoDiet/code/gCastle/gcastle/tests/../castle/algorithms/gradient/notears/torch/golem.py[line:220] - INFO: [Iter 0] score=36.402, likelihood=36.402, h=0.0e+00\n"
     ]
    }
   ],
   "source": [
    "golem = GOLEM(device_type='cpu', num_iter=3)\n",
    "golem.learn(data=x)"
   ]
  },
  {
   "cell_type": "code",
   "execution_count": 11,
   "metadata": {},
   "outputs": [
    {
     "data": {
      "image/png": "[encoded data removed]",
      "text/plain": [
       "<Figure size 576x216 with 4 Axes>"
      ]
     },
     "metadata": {
      "needs_background": "light"
     },
     "output_type": "display_data"
    },
    {
     "name": "stdout",
     "output_type": "stream",
     "text": [
      "{'fdr': 0.0, 'tpr': 0.0, 'fpr': 0.0, 'shd': 13, 'nnz': 0, 'precision': nan, 'recall': 0.0, 'F1': nan, 'gscore': 0.0}\n"
     ]
    },
    {
     "name": "stderr",
     "output_type": "stream",
     "text": [
      "/Users/momo/Desktop/CoDiet/code/gCastle/gcastle/tests/../castle/metrics/evaluation.py:224: RuntimeWarning: invalid value encountered in scalar divide\n",
      "  precision = TP/TP_FP\n"
     ]
    }
   ],
   "source": [
    "# plot est_dag and true_dag\n",
    "GraphDAG(golem.causal_matrix, true_dag)\n",
    "\n",
    "# calculate accuracy\n",
    "mm = MetricsDAG(golem.causal_matrix, true_dag)\n",
    "print(mm.metrics)\n",
    "results.append(mm)"
   ]
  },
  {
   "cell_type": "code",
   "execution_count": 12,
   "metadata": {},
   "outputs": [
    {
     "name": "stderr",
     "output_type": "stream",
     "text": [
      "2023-03-16 18:05:29,284 - /Users/momo/Desktop/CoDiet/code/gCastle/gcastle/tests/../castle/algorithms/gradient/gran_dag/torch/gran_dag.py[line:271] - INFO: GPU is unavailable.\n"
     ]
    },
    {
     "name": "stdout",
     "output_type": "stream",
     "text": [
      "{'model_name': 'NonLinGaussANM', 'nonlinear': 'leaky-relu', 'optimizer': 'rmsprop', 'norm_prod': 'paths', 'device_type': 'cpu'}\n",
      "====================================================================================================\n"
     ]
    },
    {
     "name": "stderr",
     "output_type": "stream",
     "text": [
      "Training Iterations: 100%|██████████| 3/3 [00:00<00:00, 108.82it/s]\n",
      "2023-03-16 18:05:29,361 - /Users/momo/Desktop/CoDiet/code/gCastle/gcastle/tests/../castle/algorithms/gradient/gran_dag/torch/gran_dag.py[line:271] - INFO: GPU is unavailable.\n"
     ]
    },
    {
     "name": "stdout",
     "output_type": "stream",
     "text": [
      "{'model_name': 'NonLinGaussANM', 'nonlinear': 'leaky-relu', 'optimizer': 'rmsprop', 'norm_prod': 'none', 'device_type': 'cpu'}\n",
      "====================================================================================================\n"
     ]
    },
    {
     "name": "stderr",
     "output_type": "stream",
     "text": [
      "Training Iterations: 100%|██████████| 3/3 [00:00<00:00, 214.56it/s]\n",
      "2023-03-16 18:05:29,397 - /Users/momo/Desktop/CoDiet/code/gCastle/gcastle/tests/../castle/algorithms/gradient/gran_dag/torch/gran_dag.py[line:271] - INFO: GPU is unavailable.\n"
     ]
    },
    {
     "name": "stdout",
     "output_type": "stream",
     "text": [
      "{'model_name': 'NonLinGaussANM', 'nonlinear': 'leaky-relu', 'optimizer': 'sgd', 'norm_prod': 'paths', 'device_type': 'cpu'}\n",
      "====================================================================================================\n"
     ]
    },
    {
     "name": "stderr",
     "output_type": "stream",
     "text": [
      "Training Iterations: 100%|██████████| 3/3 [00:00<00:00, 223.79it/s]\n",
      "2023-03-16 18:05:29,434 - /Users/momo/Desktop/CoDiet/code/gCastle/gcastle/tests/../castle/algorithms/gradient/gran_dag/torch/gran_dag.py[line:271] - INFO: GPU is unavailable.\n"
     ]
    },
    {
     "name": "stdout",
     "output_type": "stream",
     "text": [
      "{'model_name': 'NonLinGaussANM', 'nonlinear': 'leaky-relu', 'optimizer': 'sgd', 'norm_prod': 'none', 'device_type': 'cpu'}\n",
      "====================================================================================================\n"
     ]
    },
    {
     "name": "stderr",
     "output_type": "stream",
     "text": [
      "Training Iterations:   0%|          | 0/3 [00:00<?, ?it/s]/Users/momo/Desktop/CoDiet/code/gCastle/gcastle/tests/../castle/algorithms/gradient/gran_dag/torch/gran_dag.py:422: RuntimeWarning: overflow encountered in cast\n",
      "  w_adjs[iter, :, :] = w_adj.detach().cpu().numpy().astype(np.float32)\n",
      "Training Iterations:  33%|███▎      | 1/3 [00:00<00:00, 94.85it/s]\n",
      "2023-03-16 18:05:29,455 - /Users/momo/Desktop/CoDiet/code/gCastle/gcastle/tests/../castle/algorithms/gradient/gran_dag/torch/gran_dag.py[line:271] - INFO: GPU is unavailable.\n"
     ]
    },
    {
     "name": "stdout",
     "output_type": "stream",
     "text": [
      "Traceback (most recent call last):\n",
      "  File \"/var/folders/5x/3g67fwns0mb68s__c_3fk4wr0000gn/T/ipykernel_86841/3370934198.py\", line 7, in <module>\n",
      "    grandag.learn(data=x)\n",
      "  File \"/Users/momo/Desktop/CoDiet/code/gCastle/gcastle/tests/../castle/algorithms/gradient/gran_dag/torch/gran_dag.py\", line 343, in learn\n",
      "    self._to_dag(train_data)\n",
      "  File \"/Users/momo/Desktop/CoDiet/code/gCastle/gcastle/tests/../castle/algorithms/gradient/gran_dag/torch/gran_dag.py\", line 511, in _to_dag\n",
      "    A = compute_jacobian_avg(self.model, train_data,\n",
      "  File \"/Users/momo/Desktop/CoDiet/code/gCastle/gcastle/tests/../castle/algorithms/gradient/gran_dag/torch/base/dag_optimizer.py\", line 93, in compute_jacobian_avg\n",
      "    log_probs = model.compute_log_likelihood(x, weights, biases, extra_params,\n",
      "  File \"/Users/momo/Desktop/CoDiet/code/gCastle/gcastle/tests/../castle/algorithms/gradient/gran_dag/torch/base/base_model.py\", line 270, in compute_log_likelihood\n",
      "    conditional = self.get_distribution(density_param)\n",
      "  File \"/Users/momo/Desktop/CoDiet/code/gCastle/gcastle/tests/../castle/algorithms/gradient/gran_dag/torch/base/base_model.py\", line 369, in get_distribution\n",
      "    return distributions.normal.Normal(dp[0], dp[1])\n",
      "  File \"/Users/momo/opt/anaconda3/envs/study/lib/python3.9/site-packages/torch/distributions/normal.py\", line 50, in __init__\n",
      "    super(Normal, self).__init__(batch_shape, validate_args=validate_args)\n",
      "  File \"/Users/momo/opt/anaconda3/envs/study/lib/python3.9/site-packages/torch/distributions/distribution.py\", line 55, in __init__\n",
      "    raise ValueError(\n",
      "ValueError: Expected parameter loc (Tensor of shape (1600,)) of distribution Normal(loc: torch.Size([1600]), scale: torch.Size([1600])) to satisfy the constraint Real(), but found invalid values:\n",
      "tensor([nan, nan, nan,  ..., nan, nan, nan], grad_fn=<UnbindBackward0>)\n",
      "\n",
      "{'model_name': 'NonLinGaussANM', 'nonlinear': 'sigmoid', 'optimizer': 'rmsprop', 'norm_prod': 'paths', 'device_type': 'cpu'}\n",
      "====================================================================================================\n"
     ]
    },
    {
     "name": "stderr",
     "output_type": "stream",
     "text": [
      "Training Iterations: 100%|██████████| 3/3 [00:00<00:00, 201.34it/s]\n",
      "2023-03-16 18:05:29,495 - /Users/momo/Desktop/CoDiet/code/gCastle/gcastle/tests/../castle/algorithms/gradient/gran_dag/torch/gran_dag.py[line:271] - INFO: GPU is unavailable.\n"
     ]
    },
    {
     "name": "stdout",
     "output_type": "stream",
     "text": [
      "{'model_name': 'NonLinGaussANM', 'nonlinear': 'sigmoid', 'optimizer': 'rmsprop', 'norm_prod': 'none', 'device_type': 'cpu'}\n",
      "====================================================================================================\n"
     ]
    },
    {
     "name": "stderr",
     "output_type": "stream",
     "text": [
      "Training Iterations: 100%|██████████| 3/3 [00:00<00:00, 176.42it/s]\n",
      "2023-03-16 18:05:29,535 - /Users/momo/Desktop/CoDiet/code/gCastle/gcastle/tests/../castle/algorithms/gradient/gran_dag/torch/gran_dag.py[line:271] - INFO: GPU is unavailable.\n"
     ]
    },
    {
     "name": "stdout",
     "output_type": "stream",
     "text": [
      "{'model_name': 'NonLinGaussANM', 'nonlinear': 'sigmoid', 'optimizer': 'sgd', 'norm_prod': 'paths', 'device_type': 'cpu'}\n",
      "====================================================================================================\n"
     ]
    },
    {
     "name": "stderr",
     "output_type": "stream",
     "text": [
      "Training Iterations: 100%|██████████| 3/3 [00:00<00:00, 243.33it/s]\n",
      "2023-03-16 18:05:29,568 - /Users/momo/Desktop/CoDiet/code/gCastle/gcastle/tests/../castle/algorithms/gradient/gran_dag/torch/gran_dag.py[line:271] - INFO: GPU is unavailable.\n"
     ]
    },
    {
     "name": "stdout",
     "output_type": "stream",
     "text": [
      "{'model_name': 'NonLinGaussANM', 'nonlinear': 'sigmoid', 'optimizer': 'sgd', 'norm_prod': 'none', 'device_type': 'cpu'}\n",
      "====================================================================================================\n"
     ]
    },
    {
     "name": "stderr",
     "output_type": "stream",
     "text": [
      "Training Iterations:  33%|███▎      | 1/3 [00:00<00:00, 103.89it/s]\n",
      "2023-03-16 18:05:29,585 - /Users/momo/Desktop/CoDiet/code/gCastle/gcastle/tests/../castle/algorithms/gradient/gran_dag/torch/gran_dag.py[line:271] - INFO: GPU is unavailable.\n"
     ]
    },
    {
     "name": "stdout",
     "output_type": "stream",
     "text": [
      "Traceback (most recent call last):\n",
      "  File \"/var/folders/5x/3g67fwns0mb68s__c_3fk4wr0000gn/T/ipykernel_86841/3370934198.py\", line 7, in <module>\n",
      "    grandag.learn(data=x)\n",
      "  File \"/Users/momo/Desktop/CoDiet/code/gCastle/gcastle/tests/../castle/algorithms/gradient/gran_dag/torch/gran_dag.py\", line 343, in learn\n",
      "    self._to_dag(train_data)\n",
      "  File \"/Users/momo/Desktop/CoDiet/code/gCastle/gcastle/tests/../castle/algorithms/gradient/gran_dag/torch/gran_dag.py\", line 511, in _to_dag\n",
      "    A = compute_jacobian_avg(self.model, train_data,\n",
      "  File \"/Users/momo/Desktop/CoDiet/code/gCastle/gcastle/tests/../castle/algorithms/gradient/gran_dag/torch/base/dag_optimizer.py\", line 93, in compute_jacobian_avg\n",
      "    log_probs = model.compute_log_likelihood(x, weights, biases, extra_params,\n",
      "  File \"/Users/momo/Desktop/CoDiet/code/gCastle/gcastle/tests/../castle/algorithms/gradient/gran_dag/torch/base/base_model.py\", line 270, in compute_log_likelihood\n",
      "    conditional = self.get_distribution(density_param)\n",
      "  File \"/Users/momo/Desktop/CoDiet/code/gCastle/gcastle/tests/../castle/algorithms/gradient/gran_dag/torch/base/base_model.py\", line 369, in get_distribution\n",
      "    return distributions.normal.Normal(dp[0], dp[1])\n",
      "  File \"/Users/momo/opt/anaconda3/envs/study/lib/python3.9/site-packages/torch/distributions/normal.py\", line 50, in __init__\n",
      "    super(Normal, self).__init__(batch_shape, validate_args=validate_args)\n",
      "  File \"/Users/momo/opt/anaconda3/envs/study/lib/python3.9/site-packages/torch/distributions/distribution.py\", line 55, in __init__\n",
      "    raise ValueError(\n",
      "ValueError: Expected parameter loc (Tensor of shape (1600,)) of distribution Normal(loc: torch.Size([1600]), scale: torch.Size([1600])) to satisfy the constraint Real(), but found invalid values:\n",
      "tensor([nan, nan, nan,  ..., nan, nan, nan], grad_fn=<UnbindBackward0>)\n",
      "\n",
      "{'model_name': 'NonLinGauss', 'nonlinear': 'leaky-relu', 'optimizer': 'rmsprop', 'norm_prod': 'paths', 'device_type': 'cpu'}\n",
      "====================================================================================================\n"
     ]
    },
    {
     "name": "stderr",
     "output_type": "stream",
     "text": [
      "Training Iterations: 100%|██████████| 3/3 [00:00<00:00, 227.48it/s]\n"
     ]
    },
    {
     "name": "stdout",
     "output_type": "stream",
     "text": [
      "{'model_name': 'NonLinGauss', 'nonlinear': 'leaky-relu', 'optimizer': 'rmsprop', 'norm_prod': 'none', 'device_type': 'cpu'}\n",
      "====================================================================================================\n"
     ]
    },
    {
     "name": "stderr",
     "output_type": "stream",
     "text": [
      "2023-03-16 18:05:29,659 - /Users/momo/Desktop/CoDiet/code/gCastle/gcastle/tests/../castle/algorithms/gradient/gran_dag/torch/gran_dag.py[line:271] - INFO: GPU is unavailable.\n",
      "Training Iterations:   0%|          | 0/3 [00:00<?, ?it/s]\n",
      "2023-03-16 18:05:29,673 - /Users/momo/Desktop/CoDiet/code/gCastle/gcastle/tests/../castle/algorithms/gradient/gran_dag/torch/gran_dag.py[line:271] - INFO: GPU is unavailable.\n"
     ]
    },
    {
     "name": "stdout",
     "output_type": "stream",
     "text": [
      "Traceback (most recent call last):\n",
      "  File \"/var/folders/5x/3g67fwns0mb68s__c_3fk4wr0000gn/T/ipykernel_86841/3370934198.py\", line 7, in <module>\n",
      "    grandag.learn(data=x)\n",
      "  File \"/Users/momo/Desktop/CoDiet/code/gCastle/gcastle/tests/../castle/algorithms/gradient/gran_dag/torch/gran_dag.py\", line 340, in learn\n",
      "    self._train(train_data=train_data, test_data=test_data)\n",
      "  File \"/Users/momo/Desktop/CoDiet/code/gCastle/gcastle/tests/../castle/algorithms/gradient/gran_dag/torch/gran_dag.py\", line 440, in _train\n",
      "    loss_val = - torch.mean(self.model.compute_log_likelihood(x,\n",
      "  File \"/Users/momo/Desktop/CoDiet/code/gCastle/gcastle/tests/../castle/algorithms/gradient/gran_dag/torch/base/base_model.py\", line 270, in compute_log_likelihood\n",
      "    conditional = self.get_distribution(density_param)\n",
      "  File \"/Users/momo/Desktop/CoDiet/code/gCastle/gcastle/tests/../castle/algorithms/gradient/gran_dag/torch/base/base_model.py\", line 319, in get_distribution\n",
      "    return distributions.normal.Normal(dp[0], torch.exp(dp[1]))\n",
      "  File \"/Users/momo/opt/anaconda3/envs/study/lib/python3.9/site-packages/torch/distributions/normal.py\", line 50, in __init__\n",
      "    super(Normal, self).__init__(batch_shape, validate_args=validate_args)\n",
      "  File \"/Users/momo/opt/anaconda3/envs/study/lib/python3.9/site-packages/torch/distributions/distribution.py\", line 55, in __init__\n",
      "    raise ValueError(\n",
      "ValueError: Expected parameter loc (Tensor of shape (400,)) of distribution Normal(loc: torch.Size([400]), scale: torch.Size([400])) to satisfy the constraint Real(), but found invalid values:\n",
      "tensor([nan, nan, nan, nan, nan, nan, nan, nan, nan, nan, nan, nan, nan, nan, nan, nan, nan, nan, nan, nan, nan, nan, nan, nan,\n",
      "        nan, nan, nan, nan, nan, nan, nan, nan, nan, nan, nan, nan, nan, nan, nan, nan, nan, nan, nan, nan, nan, nan, nan, nan,\n",
      "        nan, nan, nan, nan, nan, nan, nan, nan, nan, nan, nan, nan, nan, nan, nan, nan, nan, nan, nan, nan, nan, nan, nan, nan,\n",
      "        nan, nan, nan, nan, nan, nan, nan, nan, nan, nan, nan, nan, nan, nan, nan, nan, nan, nan, nan, nan, nan, nan, nan, nan,\n",
      "        nan, nan, nan, nan, nan, nan, nan, nan, nan, nan, nan, nan, nan, nan, nan, nan, nan, nan, nan, nan, nan, nan, nan, nan,\n",
      "        nan, nan, nan, nan, nan, nan, nan, nan, nan, nan, nan, nan, nan, nan, nan, nan, nan, nan, nan, nan, nan, nan, nan, nan,\n",
      "        nan, nan, nan, nan, nan, nan, nan, nan, nan, nan, nan, nan, nan, nan, nan, nan, nan, nan, nan, nan, nan, nan, nan, nan,\n",
      "        nan, nan, nan, nan, nan, nan, nan, nan, nan, nan, nan, nan, nan, nan, nan, nan, nan, nan, nan, nan, nan, nan, nan, nan,\n",
      "        nan, nan, nan, nan, nan, nan, nan, nan, nan, nan, nan, nan, nan, nan, nan, nan, nan, nan, nan, nan, nan, nan, nan, nan,\n",
      "        nan, nan, nan, nan, nan, nan, nan, nan, nan, nan, nan, nan, nan, nan, nan, nan, nan, nan, nan, nan, nan, nan, nan, nan,\n",
      "        nan, nan, nan, nan, nan, nan, nan, nan, nan, nan, nan, nan, nan, nan, nan, nan, nan, nan, nan, nan, nan, nan, nan, nan,\n",
      "        nan, nan, nan, nan, nan, nan, nan, nan, nan, nan, nan, nan, nan, nan, nan, nan, nan, nan, nan, nan, nan, nan, nan, nan,\n",
      "        nan, nan, nan, nan, nan, nan, nan, nan, nan, nan, nan, nan, nan, nan, nan, nan, nan, nan, nan, nan, nan, nan, nan, nan,\n",
      "        nan, nan, nan, nan, nan, nan, nan, nan, nan, nan, nan, nan, nan, nan, nan, nan, nan, nan, nan, nan, nan, nan, nan, nan,\n",
      "        nan, nan, nan, nan, nan, nan, nan, nan, nan, nan, nan, nan, nan, nan, nan, nan, nan, nan, nan, nan, nan, nan, nan, nan,\n",
      "        nan, nan, nan, nan, nan, nan, nan, nan, nan, nan, nan, nan, nan, nan, nan, nan, nan, nan, nan, nan, nan, nan, nan, nan,\n",
      "        nan, nan, nan, nan, nan, nan, nan, nan, nan, nan, nan, nan, nan, nan, nan, nan])\n",
      "\n",
      "{'model_name': 'NonLinGauss', 'nonlinear': 'leaky-relu', 'optimizer': 'sgd', 'norm_prod': 'paths', 'device_type': 'cpu'}\n",
      "====================================================================================================\n"
     ]
    },
    {
     "name": "stderr",
     "output_type": "stream",
     "text": [
      "Training Iterations:  33%|███▎      | 1/3 [00:00<00:00, 99.69it/s]\n",
      "2023-03-16 18:05:29,691 - /Users/momo/Desktop/CoDiet/code/gCastle/gcastle/tests/../castle/algorithms/gradient/gran_dag/torch/gran_dag.py[line:271] - INFO: GPU is unavailable.\n"
     ]
    },
    {
     "name": "stdout",
     "output_type": "stream",
     "text": [
      "Traceback (most recent call last):\n",
      "  File \"/var/folders/5x/3g67fwns0mb68s__c_3fk4wr0000gn/T/ipykernel_86841/3370934198.py\", line 7, in <module>\n",
      "    grandag.learn(data=x)\n",
      "  File \"/Users/momo/Desktop/CoDiet/code/gCastle/gcastle/tests/../castle/algorithms/gradient/gran_dag/torch/gran_dag.py\", line 343, in learn\n",
      "    self._to_dag(train_data)\n",
      "  File \"/Users/momo/Desktop/CoDiet/code/gCastle/gcastle/tests/../castle/algorithms/gradient/gran_dag/torch/gran_dag.py\", line 511, in _to_dag\n",
      "    A = compute_jacobian_avg(self.model, train_data,\n",
      "  File \"/Users/momo/Desktop/CoDiet/code/gCastle/gcastle/tests/../castle/algorithms/gradient/gran_dag/torch/base/dag_optimizer.py\", line 93, in compute_jacobian_avg\n",
      "    log_probs = model.compute_log_likelihood(x, weights, biases, extra_params,\n",
      "  File \"/Users/momo/Desktop/CoDiet/code/gCastle/gcastle/tests/../castle/algorithms/gradient/gran_dag/torch/base/base_model.py\", line 270, in compute_log_likelihood\n",
      "    conditional = self.get_distribution(density_param)\n",
      "  File \"/Users/momo/Desktop/CoDiet/code/gCastle/gcastle/tests/../castle/algorithms/gradient/gran_dag/torch/base/base_model.py\", line 319, in get_distribution\n",
      "    return distributions.normal.Normal(dp[0], torch.exp(dp[1]))\n",
      "  File \"/Users/momo/opt/anaconda3/envs/study/lib/python3.9/site-packages/torch/distributions/normal.py\", line 50, in __init__\n",
      "    super(Normal, self).__init__(batch_shape, validate_args=validate_args)\n",
      "  File \"/Users/momo/opt/anaconda3/envs/study/lib/python3.9/site-packages/torch/distributions/distribution.py\", line 55, in __init__\n",
      "    raise ValueError(\n",
      "ValueError: Expected parameter loc (Tensor of shape (1600,)) of distribution Normal(loc: torch.Size([1600]), scale: torch.Size([1600])) to satisfy the constraint Real(), but found invalid values:\n",
      "tensor([nan, nan, nan,  ..., nan, nan, nan], grad_fn=<UnbindBackward0>)\n",
      "\n",
      "{'model_name': 'NonLinGauss', 'nonlinear': 'leaky-relu', 'optimizer': 'sgd', 'norm_prod': 'none', 'device_type': 'cpu'}\n",
      "====================================================================================================\n"
     ]
    },
    {
     "name": "stderr",
     "output_type": "stream",
     "text": [
      "Training Iterations:   0%|          | 0/3 [00:00<?, ?it/s]\n",
      "2023-03-16 18:05:29,702 - /Users/momo/Desktop/CoDiet/code/gCastle/gcastle/tests/../castle/algorithms/gradient/gran_dag/torch/gran_dag.py[line:271] - INFO: GPU is unavailable.\n"
     ]
    },
    {
     "name": "stdout",
     "output_type": "stream",
     "text": [
      "Traceback (most recent call last):\n",
      "  File \"/var/folders/5x/3g67fwns0mb68s__c_3fk4wr0000gn/T/ipykernel_86841/3370934198.py\", line 7, in <module>\n",
      "    grandag.learn(data=x)\n",
      "  File \"/Users/momo/Desktop/CoDiet/code/gCastle/gcastle/tests/../castle/algorithms/gradient/gran_dag/torch/gran_dag.py\", line 340, in learn\n",
      "    self._train(train_data=train_data, test_data=test_data)\n",
      "  File \"/Users/momo/Desktop/CoDiet/code/gCastle/gcastle/tests/../castle/algorithms/gradient/gran_dag/torch/gran_dag.py\", line 440, in _train\n",
      "    loss_val = - torch.mean(self.model.compute_log_likelihood(x,\n",
      "  File \"/Users/momo/Desktop/CoDiet/code/gCastle/gcastle/tests/../castle/algorithms/gradient/gran_dag/torch/base/base_model.py\", line 270, in compute_log_likelihood\n",
      "    conditional = self.get_distribution(density_param)\n",
      "  File \"/Users/momo/Desktop/CoDiet/code/gCastle/gcastle/tests/../castle/algorithms/gradient/gran_dag/torch/base/base_model.py\", line 319, in get_distribution\n",
      "    return distributions.normal.Normal(dp[0], torch.exp(dp[1]))\n",
      "  File \"/Users/momo/opt/anaconda3/envs/study/lib/python3.9/site-packages/torch/distributions/normal.py\", line 50, in __init__\n",
      "    super(Normal, self).__init__(batch_shape, validate_args=validate_args)\n",
      "  File \"/Users/momo/opt/anaconda3/envs/study/lib/python3.9/site-packages/torch/distributions/distribution.py\", line 55, in __init__\n",
      "    raise ValueError(\n",
      "ValueError: Expected parameter loc (Tensor of shape (400,)) of distribution Normal(loc: torch.Size([400]), scale: torch.Size([400])) to satisfy the constraint Real(), but found invalid values:\n",
      "tensor([nan, nan, nan, nan, nan, nan, nan, nan, nan, nan, nan, nan, nan, nan, nan, nan, nan, nan, nan, nan, nan, nan, nan, nan,\n",
      "        nan, nan, nan, nan, nan, nan, nan, nan, nan, nan, nan, nan, nan, nan, nan, nan, nan, nan, nan, nan, nan, nan, nan, nan,\n",
      "        nan, nan, nan, nan, nan, nan, nan, nan, nan, nan, nan, nan, nan, nan, nan, nan, nan, nan, nan, nan, nan, nan, nan, nan,\n",
      "        nan, nan, nan, nan, nan, nan, nan, nan, nan, nan, nan, nan, nan, nan, nan, nan, nan, nan, nan, nan, nan, nan, nan, nan,\n",
      "        nan, nan, nan, nan, nan, nan, nan, nan, nan, nan, nan, nan, nan, nan, nan, nan, nan, nan, nan, nan, nan, nan, nan, nan,\n",
      "        nan, nan, nan, nan, nan, nan, nan, nan, nan, nan, nan, nan, nan, nan, nan, nan, nan, nan, nan, nan, nan, nan, nan, nan,\n",
      "        nan, nan, nan, nan, nan, nan, nan, nan, nan, nan, nan, nan, nan, nan, nan, nan, nan, nan, nan, nan, nan, nan, nan, nan,\n",
      "        nan, nan, nan, nan, nan, nan, nan, nan, nan, nan, nan, nan, nan, nan, nan, nan, nan, nan, nan, nan, nan, nan, nan, nan,\n",
      "        nan, nan, nan, nan, nan, nan, nan, nan, nan, nan, nan, nan, nan, nan, nan, nan, nan, nan, nan, nan, nan, nan, nan, nan,\n",
      "        nan, nan, nan, nan, nan, nan, nan, nan, nan, nan, nan, nan, nan, nan, nan, nan, nan, nan, nan, nan, nan, nan, nan, nan,\n",
      "        nan, nan, nan, nan, nan, nan, nan, nan, nan, nan, nan, nan, nan, nan, nan, nan, nan, nan, nan, nan, nan, nan, nan, nan,\n",
      "        nan, nan, nan, nan, nan, nan, nan, nan, nan, nan, nan, nan, nan, nan, nan, nan, nan, nan, nan, nan, nan, nan, nan, nan,\n",
      "        nan, nan, nan, nan, nan, nan, nan, nan, nan, nan, nan, nan, nan, nan, nan, nan, nan, nan, nan, nan, nan, nan, nan, nan,\n",
      "        nan, nan, nan, nan, nan, nan, nan, nan, nan, nan, nan, nan, nan, nan, nan, nan, nan, nan, nan, nan, nan, nan, nan, nan,\n",
      "        nan, nan, nan, nan, nan, nan, nan, nan, nan, nan, nan, nan, nan, nan, nan, nan, nan, nan, nan, nan, nan, nan, nan, nan,\n",
      "        nan, nan, nan, nan, nan, nan, nan, nan, nan, nan, nan, nan, nan, nan, nan, nan, nan, nan, nan, nan, nan, nan, nan, nan,\n",
      "        nan, nan, nan, nan, nan, nan, nan, nan, nan, nan, nan, nan, nan, nan, nan, nan])\n",
      "\n",
      "{'model_name': 'NonLinGauss', 'nonlinear': 'sigmoid', 'optimizer': 'rmsprop', 'norm_prod': 'paths', 'device_type': 'cpu'}\n",
      "====================================================================================================\n"
     ]
    },
    {
     "name": "stderr",
     "output_type": "stream",
     "text": [
      "Training Iterations: 100%|██████████| 3/3 [00:00<00:00, 215.01it/s]\n",
      "2023-03-16 18:05:29,742 - /Users/momo/Desktop/CoDiet/code/gCastle/gcastle/tests/../castle/algorithms/gradient/gran_dag/torch/gran_dag.py[line:271] - INFO: GPU is unavailable.\n"
     ]
    },
    {
     "name": "stdout",
     "output_type": "stream",
     "text": [
      "{'model_name': 'NonLinGauss', 'nonlinear': 'sigmoid', 'optimizer': 'rmsprop', 'norm_prod': 'none', 'device_type': 'cpu'}\n",
      "====================================================================================================\n"
     ]
    },
    {
     "name": "stderr",
     "output_type": "stream",
     "text": [
      "Training Iterations:   0%|          | 0/3 [00:00<?, ?it/s]\n",
      "2023-03-16 18:05:29,761 - /Users/momo/Desktop/CoDiet/code/gCastle/gcastle/tests/../castle/algorithms/gradient/gran_dag/torch/gran_dag.py[line:271] - INFO: GPU is unavailable.\n"
     ]
    },
    {
     "name": "stdout",
     "output_type": "stream",
     "text": [
      "Traceback (most recent call last):\n",
      "  File \"/var/folders/5x/3g67fwns0mb68s__c_3fk4wr0000gn/T/ipykernel_86841/3370934198.py\", line 7, in <module>\n",
      "    grandag.learn(data=x)\n",
      "  File \"/Users/momo/Desktop/CoDiet/code/gCastle/gcastle/tests/../castle/algorithms/gradient/gran_dag/torch/gran_dag.py\", line 340, in learn\n",
      "    self._train(train_data=train_data, test_data=test_data)\n",
      "  File \"/Users/momo/Desktop/CoDiet/code/gCastle/gcastle/tests/../castle/algorithms/gradient/gran_dag/torch/gran_dag.py\", line 440, in _train\n",
      "    loss_val = - torch.mean(self.model.compute_log_likelihood(x,\n",
      "  File \"/Users/momo/Desktop/CoDiet/code/gCastle/gcastle/tests/../castle/algorithms/gradient/gran_dag/torch/base/base_model.py\", line 270, in compute_log_likelihood\n",
      "    conditional = self.get_distribution(density_param)\n",
      "  File \"/Users/momo/Desktop/CoDiet/code/gCastle/gcastle/tests/../castle/algorithms/gradient/gran_dag/torch/base/base_model.py\", line 319, in get_distribution\n",
      "    return distributions.normal.Normal(dp[0], torch.exp(dp[1]))\n",
      "  File \"/Users/momo/opt/anaconda3/envs/study/lib/python3.9/site-packages/torch/distributions/normal.py\", line 50, in __init__\n",
      "    super(Normal, self).__init__(batch_shape, validate_args=validate_args)\n",
      "  File \"/Users/momo/opt/anaconda3/envs/study/lib/python3.9/site-packages/torch/distributions/distribution.py\", line 55, in __init__\n",
      "    raise ValueError(\n",
      "ValueError: Expected parameter loc (Tensor of shape (400,)) of distribution Normal(loc: torch.Size([400]), scale: torch.Size([400])) to satisfy the constraint Real(), but found invalid values:\n",
      "tensor([nan, nan, nan, nan, nan, nan, nan, nan, nan, nan, nan, nan, nan, nan, nan, nan, nan, nan, nan, nan, nan, nan, nan, nan,\n",
      "        nan, nan, nan, nan, nan, nan, nan, nan, nan, nan, nan, nan, nan, nan, nan, nan, nan, nan, nan, nan, nan, nan, nan, nan,\n",
      "        nan, nan, nan, nan, nan, nan, nan, nan, nan, nan, nan, nan, nan, nan, nan, nan, nan, nan, nan, nan, nan, nan, nan, nan,\n",
      "        nan, nan, nan, nan, nan, nan, nan, nan, nan, nan, nan, nan, nan, nan, nan, nan, nan, nan, nan, nan, nan, nan, nan, nan,\n",
      "        nan, nan, nan, nan, nan, nan, nan, nan, nan, nan, nan, nan, nan, nan, nan, nan, nan, nan, nan, nan, nan, nan, nan, nan,\n",
      "        nan, nan, nan, nan, nan, nan, nan, nan, nan, nan, nan, nan, nan, nan, nan, nan, nan, nan, nan, nan, nan, nan, nan, nan,\n",
      "        nan, nan, nan, nan, nan, nan, nan, nan, nan, nan, nan, nan, nan, nan, nan, nan, nan, nan, nan, nan, nan, nan, nan, nan,\n",
      "        nan, nan, nan, nan, nan, nan, nan, nan, nan, nan, nan, nan, nan, nan, nan, nan, nan, nan, nan, nan, nan, nan, nan, nan,\n",
      "        nan, nan, nan, nan, nan, nan, nan, nan, nan, nan, nan, nan, nan, nan, nan, nan, nan, nan, nan, nan, nan, nan, nan, nan,\n",
      "        nan, nan, nan, nan, nan, nan, nan, nan, nan, nan, nan, nan, nan, nan, nan, nan, nan, nan, nan, nan, nan, nan, nan, nan,\n",
      "        nan, nan, nan, nan, nan, nan, nan, nan, nan, nan, nan, nan, nan, nan, nan, nan, nan, nan, nan, nan, nan, nan, nan, nan,\n",
      "        nan, nan, nan, nan, nan, nan, nan, nan, nan, nan, nan, nan, nan, nan, nan, nan, nan, nan, nan, nan, nan, nan, nan, nan,\n",
      "        nan, nan, nan, nan, nan, nan, nan, nan, nan, nan, nan, nan, nan, nan, nan, nan, nan, nan, nan, nan, nan, nan, nan, nan,\n",
      "        nan, nan, nan, nan, nan, nan, nan, nan, nan, nan, nan, nan, nan, nan, nan, nan, nan, nan, nan, nan, nan, nan, nan, nan,\n",
      "        nan, nan, nan, nan, nan, nan, nan, nan, nan, nan, nan, nan, nan, nan, nan, nan, nan, nan, nan, nan, nan, nan, nan, nan,\n",
      "        nan, nan, nan, nan, nan, nan, nan, nan, nan, nan, nan, nan, nan, nan, nan, nan, nan, nan, nan, nan, nan, nan, nan, nan,\n",
      "        nan, nan, nan, nan, nan, nan, nan, nan, nan, nan, nan, nan, nan, nan, nan, nan])\n",
      "\n",
      "{'model_name': 'NonLinGauss', 'nonlinear': 'sigmoid', 'optimizer': 'sgd', 'norm_prod': 'paths', 'device_type': 'cpu'}\n",
      "====================================================================================================\n"
     ]
    },
    {
     "name": "stderr",
     "output_type": "stream",
     "text": [
      "Training Iterations: 100%|██████████| 3/3 [00:00<00:00, 215.25it/s]\n",
      "2023-03-16 18:05:29,802 - /Users/momo/Desktop/CoDiet/code/gCastle/gcastle/tests/../castle/algorithms/gradient/gran_dag/torch/gran_dag.py[line:271] - INFO: GPU is unavailable.\n"
     ]
    },
    {
     "name": "stdout",
     "output_type": "stream",
     "text": [
      "{'model_name': 'NonLinGauss', 'nonlinear': 'sigmoid', 'optimizer': 'sgd', 'norm_prod': 'none', 'device_type': 'cpu'}\n",
      "====================================================================================================\n"
     ]
    },
    {
     "name": "stderr",
     "output_type": "stream",
     "text": [
      "Training Iterations:   0%|          | 0/3 [00:00<?, ?it/s]"
     ]
    },
    {
     "name": "stdout",
     "output_type": "stream",
     "text": [
      "Traceback (most recent call last):\n",
      "  File \"/var/folders/5x/3g67fwns0mb68s__c_3fk4wr0000gn/T/ipykernel_86841/3370934198.py\", line 7, in <module>\n",
      "    grandag.learn(data=x)\n",
      "  File \"/Users/momo/Desktop/CoDiet/code/gCastle/gcastle/tests/../castle/algorithms/gradient/gran_dag/torch/gran_dag.py\", line 340, in learn\n",
      "    self._train(train_data=train_data, test_data=test_data)\n",
      "  File \"/Users/momo/Desktop/CoDiet/code/gCastle/gcastle/tests/../castle/algorithms/gradient/gran_dag/torch/gran_dag.py\", line 440, in _train\n",
      "    loss_val = - torch.mean(self.model.compute_log_likelihood(x,\n",
      "  File \"/Users/momo/Desktop/CoDiet/code/gCastle/gcastle/tests/../castle/algorithms/gradient/gran_dag/torch/base/base_model.py\", line 270, in compute_log_likelihood\n",
      "    conditional = self.get_distribution(density_param)\n",
      "  File \"/Users/momo/Desktop/CoDiet/code/gCastle/gcastle/tests/../castle/algorithms/gradient/gran_dag/torch/base/base_model.py\", line 319, in get_distribution\n",
      "    return distributions.normal.Normal(dp[0], torch.exp(dp[1]))\n",
      "  File \"/Users/momo/opt/anaconda3/envs/study/lib/python3.9/site-packages/torch/distributions/normal.py\", line 50, in __init__\n",
      "    super(Normal, self).__init__(batch_shape, validate_args=validate_args)\n",
      "  File \"/Users/momo/opt/anaconda3/envs/study/lib/python3.9/site-packages/torch/distributions/distribution.py\", line 55, in __init__\n",
      "    raise ValueError(\n",
      "ValueError: Expected parameter loc (Tensor of shape (400,)) of distribution Normal(loc: torch.Size([400]), scale: torch.Size([400])) to satisfy the constraint Real(), but found invalid values:\n",
      "tensor([nan, nan, nan, nan, nan, nan, nan, nan, nan, nan, nan, nan, nan, nan, nan, nan, nan, nan, nan, nan, nan, nan, nan, nan,\n",
      "        nan, nan, nan, nan, nan, nan, nan, nan, nan, nan, nan, nan, nan, nan, nan, nan, nan, nan, nan, nan, nan, nan, nan, nan,\n",
      "        nan, nan, nan, nan, nan, nan, nan, nan, nan, nan, nan, nan, nan, nan, nan, nan, nan, nan, nan, nan, nan, nan, nan, nan,\n",
      "        nan, nan, nan, nan, nan, nan, nan, nan, nan, nan, nan, nan, nan, nan, nan, nan, nan, nan, nan, nan, nan, nan, nan, nan,\n",
      "        nan, nan, nan, nan, nan, nan, nan, nan, nan, nan, nan, nan, nan, nan, nan, nan, nan, nan, nan, nan, nan, nan, nan, nan,\n",
      "        nan, nan, nan, nan, nan, nan, nan, nan, nan, nan, nan, nan, nan, nan, nan, nan, nan, nan, nan, nan, nan, nan, nan, nan,\n",
      "        nan, nan, nan, nan, nan, nan, nan, nan, nan, nan, nan, nan, nan, nan, nan, nan, nan, nan, nan, nan, nan, nan, nan, nan,\n",
      "        nan, nan, nan, nan, nan, nan, nan, nan, nan, nan, nan, nan, nan, nan, nan, nan, nan, nan, nan, nan, nan, nan, nan, nan,\n",
      "        nan, nan, nan, nan, nan, nan, nan, nan, nan, nan, nan, nan, nan, nan, nan, nan, nan, nan, nan, nan, nan, nan, nan, nan,\n",
      "        nan, nan, nan, nan, nan, nan, nan, nan, nan, nan, nan, nan, nan, nan, nan, nan, nan, nan, nan, nan, nan, nan, nan, nan,\n",
      "        nan, nan, nan, nan, nan, nan, nan, nan, nan, nan, nan, nan, nan, nan, nan, nan, nan, nan, nan, nan, nan, nan, nan, nan,\n",
      "        nan, nan, nan, nan, nan, nan, nan, nan, nan, nan, nan, nan, nan, nan, nan, nan, nan, nan, nan, nan, nan, nan, nan, nan,\n",
      "        nan, nan, nan, nan, nan, nan, nan, nan, nan, nan, nan, nan, nan, nan, nan, nan, nan, nan, nan, nan, nan, nan, nan, nan,\n",
      "        nan, nan, nan, nan, nan, nan, nan, nan, nan, nan, nan, nan, nan, nan, nan, nan, nan, nan, nan, nan, nan, nan, nan, nan,\n",
      "        nan, nan, nan, nan, nan, nan, nan, nan, nan, nan, nan, nan, nan, nan, nan, nan, nan, nan, nan, nan, nan, nan, nan, nan,\n",
      "        nan, nan, nan, nan, nan, nan, nan, nan, nan, nan, nan, nan, nan, nan, nan, nan, nan, nan, nan, nan, nan, nan, nan, nan,\n",
      "        nan, nan, nan, nan, nan, nan, nan, nan, nan, nan, nan, nan, nan, nan, nan, nan])\n",
      "\n"
     ]
    },
    {
     "name": "stderr",
     "output_type": "stream",
     "text": [
      "\n"
     ]
    }
   ],
   "source": [
    "params = add_params(consts.GRANDAG_VALID_PARAMS)\n",
    "for d in combined_params(params):\n",
    "    print(d)\n",
    "    print(f\"{'=' * 100}\")\n",
    "    try:\n",
    "        grandag = GraNDAG(**d, input_dim=x.shape[1], iterations=3)\n",
    "        grandag.learn(data=x)\n",
    "    except Exception:\n",
    "        error_params.append(d)\n",
    "        print(traceback.format_exc())"
   ]
  },
  {
   "cell_type": "code",
   "execution_count": 13,
   "metadata": {},
   "outputs": [
    {
     "ename": "TypeError",
     "evalue": "Input est_dag is not numpy.ndarray!",
     "output_type": "error",
     "traceback": [
      "\u001b[0;31m---------------------------------------------------------------------------\u001b[0m",
      "\u001b[0;31mTypeError\u001b[0m                                 Traceback (most recent call last)",
      "\u001b[0;32m/var/folders/5x/3g67fwns0mb68s__c_3fk4wr0000gn/T/ipykernel_86841/2573099830.py\u001b[0m in \u001b[0;36m<module>\u001b[0;34m\u001b[0m\n\u001b[1;32m      1\u001b[0m \u001b[0;31m# plot est_dag and true_dag\u001b[0m\u001b[0;34m\u001b[0m\u001b[0;34m\u001b[0m\u001b[0m\n\u001b[0;32m----> 2\u001b[0;31m \u001b[0mGraphDAG\u001b[0m\u001b[0;34m(\u001b[0m\u001b[0mgrandag\u001b[0m\u001b[0;34m.\u001b[0m\u001b[0mcausal_matrix\u001b[0m\u001b[0;34m,\u001b[0m \u001b[0mtrue_dag\u001b[0m\u001b[0;34m)\u001b[0m\u001b[0;34m\u001b[0m\u001b[0;34m\u001b[0m\u001b[0m\n\u001b[0m\u001b[1;32m      3\u001b[0m \u001b[0;34m\u001b[0m\u001b[0m\n\u001b[1;32m      4\u001b[0m \u001b[0;31m# calculate accuracy\u001b[0m\u001b[0;34m\u001b[0m\u001b[0;34m\u001b[0m\u001b[0m\n\u001b[1;32m      5\u001b[0m \u001b[0mmm\u001b[0m \u001b[0;34m=\u001b[0m \u001b[0mMetricsDAG\u001b[0m\u001b[0;34m(\u001b[0m\u001b[0mgrandag\u001b[0m\u001b[0;34m.\u001b[0m\u001b[0mcausal_matrix\u001b[0m\u001b[0;34m,\u001b[0m \u001b[0mtrue_dag\u001b[0m\u001b[0;34m)\u001b[0m\u001b[0;34m\u001b[0m\u001b[0;34m\u001b[0m\u001b[0m\n",
      "\u001b[0;32m~/Desktop/CoDiet/code/gCastle/gcastle/tests/../castle/common/plot_dag.py\u001b[0m in \u001b[0;36m__init__\u001b[0;34m(self, est_dag, true_dag, show, save_name)\u001b[0m\n\u001b[1;32m     42\u001b[0m \u001b[0;34m\u001b[0m\u001b[0m\n\u001b[1;32m     43\u001b[0m         \u001b[0;32mif\u001b[0m \u001b[0;32mnot\u001b[0m \u001b[0misinstance\u001b[0m\u001b[0;34m(\u001b[0m\u001b[0mest_dag\u001b[0m\u001b[0;34m,\u001b[0m \u001b[0mnp\u001b[0m\u001b[0;34m.\u001b[0m\u001b[0mndarray\u001b[0m\u001b[0;34m)\u001b[0m\u001b[0;34m:\u001b[0m\u001b[0;34m\u001b[0m\u001b[0;34m\u001b[0m\u001b[0m\n\u001b[0;32m---> 44\u001b[0;31m             \u001b[0;32mraise\u001b[0m \u001b[0mTypeError\u001b[0m\u001b[0;34m(\u001b[0m\u001b[0;34m\"Input est_dag is not numpy.ndarray!\"\u001b[0m\u001b[0;34m)\u001b[0m\u001b[0;34m\u001b[0m\u001b[0;34m\u001b[0m\u001b[0m\n\u001b[0m\u001b[1;32m     45\u001b[0m \u001b[0;34m\u001b[0m\u001b[0m\n\u001b[1;32m     46\u001b[0m         \u001b[0;32mif\u001b[0m \u001b[0mtrue_dag\u001b[0m \u001b[0;32mis\u001b[0m \u001b[0;32mnot\u001b[0m \u001b[0;32mNone\u001b[0m \u001b[0;32mand\u001b[0m \u001b[0;32mnot\u001b[0m \u001b[0misinstance\u001b[0m\u001b[0;34m(\u001b[0m\u001b[0mtrue_dag\u001b[0m\u001b[0;34m,\u001b[0m \u001b[0mnp\u001b[0m\u001b[0;34m.\u001b[0m\u001b[0mndarray\u001b[0m\u001b[0;34m)\u001b[0m\u001b[0;34m:\u001b[0m\u001b[0;34m\u001b[0m\u001b[0;34m\u001b[0m\u001b[0m\n",
      "\u001b[0;31mTypeError\u001b[0m: Input est_dag is not numpy.ndarray!"
     ]
    }
   ],
   "source": [
    "# plot est_dag and true_dag\n",
    "GraphDAG(grandag.causal_matrix, true_dag)\n",
    "\n",
    "# calculate accuracy\n",
    "mm = MetricsDAG(grandag.causal_matrix, true_dag)\n",
    "print(mm.metrics)\n",
    "results.append(mm)"
   ]
  },
  {
   "cell_type": "code",
   "execution_count": null,
   "metadata": {},
   "outputs": [],
   "source": []
  }
 ],
 "metadata": {
  "interpreter": {
   "hash": "7302b976169d4ac0e049d3964802bd5db24b2435d6a27e889c657eee77aa11c8"
  },
  "kernelspec": {
   "display_name": "Python 3.9.7 ('study')",
   "language": "python",
   "name": "python3"
  },
  "language_info": {
   "codemirror_mode": {
    "name": "ipython",
    "version": 3
   },
   "file_extension": ".py",
   "mimetype": "text/x-python",
   "name": "python",
   "nbconvert_exporter": "python",
   "pygments_lexer": "ipython3",
   "version": "3.9.7"
  },
  "orig_nbformat": 4
 },
 "nbformat": 4,
 "nbformat_minor": 2
}
