{
 "cells": [
  {
   "cell_type": "code",
   "execution_count": 9,
   "metadata": {},
   "outputs": [],
   "source": [
    "import sys\n",
    "sys.path.append('../')\n",
    "# print (sys.path)\n",
    "import torch\n",
    "import logging\n",
    "import unittest\n",
    "import traceback\n",
    "import numpy as np\n",
    "\n",
    "from castle.algorithms import *\n",
    "from castle.common import consts\n",
    "from castle.common import GraphDAG\n",
    "from castle.metrics import MetricsDAG\n",
    "\n",
    "from utils.functional import combined_params"
   ]
  },
  {
   "cell_type": "code",
   "execution_count": 10,
   "metadata": {},
   "outputs": [],
   "source": [
    "data = np.load('dataset/linear_gauss_6nodes_15edges.npz', allow_pickle=True)\n",
    "x = data['x']\n",
    "true_dag = data['y']\n",
    "rank = np.linalg.matrix_rank(true_dag)\n",
    "error_params = []"
   ]
  },
  {
   "cell_type": "code",
   "execution_count": 7,
   "metadata": {},
   "outputs": [],
   "source": [
    "class TestCastleAll(unittest.TestCase):\n",
    "    \"\"\"This class for test castle algorithms whether run smoothly. \"\"\"\n",
    "\n",
    "    @staticmethod\n",
    "    def load_data():\n",
    "\n",
    "        data = np.load('dataset/linear_gauss_6nodes_15edges.npz', allow_pickle=True)\n",
    "\n",
    "        return data\n",
    "\n",
    "    def add_params(self, params=None) -> dict:\n",
    "        \"\"\"\n",
    "        add parameter `device_type` for algorithms based on torch\n",
    "\n",
    "        Parameters\n",
    "        ----------\n",
    "        params: dict\n",
    "            from castle.common.consts\n",
    "        \"\"\"\n",
    "\n",
    "        if params is None:\n",
    "            params = dict()\n",
    "        if torch.cuda.is_available():\n",
    "            params['device_type'] = ['cpu', 'gpu']\n",
    "        else:\n",
    "            params['device_type'] = ['cpu']\n",
    "\n",
    "        return params\n",
    "\n",
    "    def setUp(self) -> None:\n",
    "        data = self.load_data()\n",
    "        self.x = data['x']\n",
    "        self.true_dag = data['y']\n",
    "        print(self.true_dag, self.x)\n",
    "        self.rank = np.linalg.matrix_rank(self.true_dag)\n",
    "        self.error_params = []\n",
    "        logging.info(\"Load dataset complete!\")\n",
    "\n",
    "    def tearDown(self) -> None:\n",
    "        \"\"\"print which parameter combinations fail to be executed\"\"\"\n",
    "\n",
    "        logging.info(f\"{'=' * 20}Test completed!{'=' * 20}\")\n",
    "        logging.info(\"Failed to execute the following parameter combinations: \")\n",
    "        if self.error_params:\n",
    "            for each in self.error_params:\n",
    "                logging.info(each)\n",
    "\n",
    "    def test_ANMNonlinear(self):\n",
    "        \"\"\"test ANMNonlinear\"\"\"\n",
    "\n",
    "        logging.info(f\"{'=' * 20}Start Testing ANMNonlinear{'=' * 20}\")\n",
    "        try:\n",
    "            algo = ANMNonlinear()\n",
    "            algo.learn(data=self.x)\n",
    "        except Exception:\n",
    "            logging.error(traceback.format_exc())\n",
    "\n",
    "    def test_CORL(self):\n",
    "        logging.info(f\"{'=' * 20}Start Testing CORL{'=' * 20}\")\n",
    "        params = self.add_params(consts.CORL_VALID_PARAMS)\n",
    "        for d in combined_params(params):\n",
    "            try:\n",
    "                algo = CORL(**d, iteration=3)\n",
    "                algo.learn(data=self.x)\n",
    "            except Exception:\n",
    "                self.error_params.append(d)\n",
    "                print(traceback.format_exc())\n",
    "\n",
    "    def test_DirectLiNGAM(self) -> None:\n",
    "        logging.info(f\"{'=' * 20}Start Testing DirectLiNGAM{'=' * 20}\")\n",
    "        for d in combined_params(consts.DIRECT_LINGAM_VALID_PARAMS):\n",
    "            print(f\"\\n{'=' * 100}\")\n",
    "            print(d)\n",
    "            print(f\"{'=' * 100}\")\n",
    "            try:\n",
    "                algo = DirectLiNGAM(**d)\n",
    "                algo.learn(data=self.x)\n",
    "            except Exception:\n",
    "                self.error_params.append(d)\n",
    "                print(traceback.format_exc())\n",
    "\n",
    "    def test_GES_bic_scatter(self) -> None:\n",
    "        logging.info(f\"{'=' * 20}Start Testing GES_bic_scatter{'=' * 20}\")\n",
    "        d = {'criterion': 'bic', 'method': 'scatter'}\n",
    "        print(f\"\\n{'=' * 100}\")\n",
    "        print(d)\n",
    "        print(f\"{'=' * 100}\")\n",
    "        try:\n",
    "            algo = GES(**d)\n",
    "            algo.learn(data=self.x)\n",
    "        except Exception:\n",
    "            self.error_params.append(d)\n",
    "            print(traceback.format_exc())\n",
    "\n",
    "    def test_GES_bic_r2(self) -> None:\n",
    "        logging.info(f\"{'=' * 20}Start Testing GES_bic_r2{'=' * 20}\")\n",
    "        d = {'criterion': 'bic', 'method': 'r2'}\n",
    "        print(f\"\\n{'=' * 100}\")\n",
    "        print(d)\n",
    "        print(f\"{'=' * 100}\")\n",
    "        try:\n",
    "            algo = GES(**d)\n",
    "            algo.learn(data=self.x)\n",
    "        except Exception:\n",
    "            self.error_params.append(d)\n",
    "            print(traceback.format_exc())\n",
    "\n",
    "    @unittest.skip(reason='Just for discrete data.')\n",
    "    def test_GES_bdeu(self) -> None:\n",
    "        logging.info(f\"{'=' * 20}Start Testing GES_bdeu{'=' * 20}\")\n",
    "        d = {'criterion': 'bdeu'}\n",
    "        print(f\"\\n{'=' * 100}\")\n",
    "        print(d)\n",
    "        print(f\"{'=' * 100}\")\n",
    "        try:\n",
    "            algo = GES(**d)\n",
    "            algo.learn(data=self.x)\n",
    "        except Exception:\n",
    "            self.error_params.append(d)\n",
    "            print(traceback.format_exc())\n",
    "\n",
    "    def test_GOLEM(self) -> None:\n",
    "        logging.info(f\"{'=' * 20}Start Testing GOLEM{'=' * 20}\")\n",
    "        params = self.add_params()\n",
    "        for d in combined_params(params):\n",
    "            print(f\"\\n{'=' * 100}\")\n",
    "            print(d)\n",
    "            print(f\"{'=' * 100}\")\n",
    "            try:\n",
    "                algo = GOLEM(**d, num_iter=3)\n",
    "                algo.learn(data=self.x)\n",
    "            except Exception:\n",
    "                self.error_params.append(d)\n",
    "                print(traceback.format_exc())\n",
    "\n",
    "    def test_GraNDAG(self) -> None:\n",
    "        logging.info(f\"{'=' * 20}Start Testing GraNDAG{'=' * 20}\")\n",
    "        params = self.add_params(consts.GRANDAG_VALID_PARAMS)\n",
    "        for d in combined_params(params):\n",
    "            print(f\"\\n{'=' * 100}\")\n",
    "            print(d)\n",
    "            print(f\"{'=' * 100}\")\n",
    "            try:\n",
    "                algo = GraNDAG(**d, input_dim=self.x.shape[1], iterations=3)\n",
    "                algo.learn(data=self.x)\n",
    "            except Exception:\n",
    "                self.error_params.append(d)\n",
    "                print(traceback.format_exc())\n",
    "\n",
    "    def test_DAG_GNN(self) -> None:\n",
    "        logging.info(f\"{'=' * 20}Start Testing DAG_GNN{'=' * 20}\")\n",
    "        params = self.add_params(consts.GNN_VALID_PARAMS)\n",
    "        for d in combined_params(params):\n",
    "            print(f\"\\n{'=' * 100}\")\n",
    "            print(d)\n",
    "            print(f\"{'=' * 100}\")\n",
    "            try:\n",
    "                algo = DAG_GNN(**d, epochs=5, k_max_iter=5)\n",
    "                algo.learn(data=self.x)\n",
    "            except Exception:\n",
    "                self.error_params.append(d)\n",
    "                print(traceback.format_exc())\n",
    "\n",
    "    def test_ICALiNGAM(self) -> None:\n",
    "        logging.info(f\"{'=' * 20}Start Testing ICALiNGAM{'=' * 20}\")\n",
    "        try:\n",
    "            # Instantiation algorithm\n",
    "            algo = ICALiNGAM()\n",
    "            algo.learn(data=self.x)\n",
    "        except Exception:\n",
    "            print(traceback.format_exc())\n",
    "\n",
    "    def test_Notears(self) -> None:\n",
    "        logging.info(f\"{'=' * 20}Start Testing Notears{'=' * 20}\")\n",
    "        for d in combined_params(consts.NOTEARS_VALID_PARAMS):\n",
    "            print(f\"\\n{'=' * 100}\")\n",
    "            print(d)\n",
    "            print(f\"{'=' * 100}\")\n",
    "            try:\n",
    "                algo = Notears(**d, max_iter=3)\n",
    "                algo.learn(data=self.x)\n",
    "            except Exception:\n",
    "                self.error_params.append(d)\n",
    "                print(traceback.format_exc())\n",
    "\n",
    "    def test_MCSL(self) -> None:\n",
    "        logging.info(f\"{'=' * 20}Start Testing MCSL{'=' * 20}\")\n",
    "        params = self.add_params(consts.MCSL_VALID_PARAMS)\n",
    "        for d in combined_params(params):\n",
    "            print(f\"\\n{'=' * 100}\")\n",
    "            print(d)\n",
    "            print(f\"{'=' * 100}\")\n",
    "            try:\n",
    "                algo = MCSL(**d, max_iter=3, iter_step=3)\n",
    "                algo.learn(data=self.x)\n",
    "            except Exception:\n",
    "                self.error_params.append(d)\n",
    "                print(traceback.format_exc())\n",
    "\n",
    "    def test_NotearsNonlinear(self) -> None:\n",
    "        logging.info(f\"{'=' * 20}Start Testing NotearsNonlinear{'=' * 20}\")\n",
    "        params = self.add_params(consts.NONLINEAR_NOTEARS_VALID_PARAMS)\n",
    "        for d in combined_params(params):\n",
    "            print(f\"\\n{'=' * 100}\")\n",
    "            print(d)\n",
    "            print(f\"{'=' * 100}\")\n",
    "            try:\n",
    "                algo = NotearsNonlinear(**d, max_iter=3, rho_max=1e4)\n",
    "                algo.learn(data=self.x)\n",
    "            except Exception:\n",
    "                self.error_params.append(d)\n",
    "                print(traceback.format_exc())\n",
    "\n",
    "    def test_NotearsLowRank(self) -> None:\n",
    "        logging.info(f\"{'=' * 20}Start Testing NotearsLowRank{'=' * 20}\")\n",
    "        try:\n",
    "            algo = NotearsLowRank(max_iter=3)\n",
    "            algo.learn(data=self.x, rank=self.rank)\n",
    "        except Exception:\n",
    "            print(traceback.format_exc())\n",
    "\n",
    "    def test_PC(self) -> None:\n",
    "        logging.info(f\"{'=' * 20}Start Testing PC{'=' * 20}\")\n",
    "        for d in combined_params(consts.PC_VALID_PARAMS):\n",
    "            print(f\"\\n{'=' * 100}\")\n",
    "            print(d)\n",
    "            print(f\"{'=' * 100}\")\n",
    "            try:\n",
    "                algo = PC(**d)\n",
    "                algo.learn(data=self.x)\n",
    "            except Exception:\n",
    "                self.error_params.append(d)\n",
    "                print(traceback.format_exc())\n",
    "\n",
    "    def test_RL(self) -> None:\n",
    "        logging.info(f\"{'=' * 20}Start Testing RL{'=' * 20}\")\n",
    "        params = self.add_params(consts.RL_VALID_PARAMS)\n",
    "        for d in combined_params(params):\n",
    "            print(f\"\\n{'=' * 100}\")\n",
    "            print(d)\n",
    "            print(f\"{'=' * 100}\")\n",
    "            try:\n",
    "                algo = RL(**d, nb_epoch=3)\n",
    "                algo.learn(data=self.x)\n",
    "            except Exception:\n",
    "                self.error_params.append(d)\n",
    "                print(traceback.format_exc())"
   ]
  },
  {
   "cell_type": "code",
   "execution_count": 8,
   "metadata": {},
   "outputs": [
    {
     "name": "stderr",
     "output_type": "stream",
     "text": [
      "2023-03-16 13:55:13,352 - /var/folders/5x/3g67fwns0mb68s__c_3fk4wr0000gn/T/ipykernel_30018/2190528857.py[line:37] - INFO: Load dataset complete!\n",
      "2023-03-16 13:55:13,353 - /var/folders/5x/3g67fwns0mb68s__c_3fk4wr0000gn/T/ipykernel_30018/2190528857.py[line:51] - INFO: ====================Start Testing ANMNonlinear====================\n"
     ]
    },
    {
     "name": "stdout",
     "output_type": "stream",
     "text": [
      "[[0 0 1 0 1 0]\n",
      " [1 0 1 1 1 1]\n",
      " [0 0 0 0 1 0]\n",
      " [0 0 1 0 1 0]\n",
      " [0 0 0 0 0 0]\n",
      " [1 0 1 0 1 0]] [[  0.867   1.924  -6.816  -2.305  -7.145   2.09 ]\n",
      " [  0.698   0.991  -3.66   -0.943  -6.728   0.86 ]\n",
      " [ -0.512   0.381   0.982   0.409   3.64    0.787]\n",
      " ...\n",
      " [  3.665   0.944  -2.667   0.546 -12.22   -1.127]\n",
      " [ -0.626   0.606   0.419  -1.02    3.479   1.406]\n",
      " [ -1.361   0.135  -1.56   -1.479   0.074   1.162]]\n"
     ]
    },
    {
     "name": "stderr",
     "output_type": "stream",
     "text": [
      "2023-03-16 13:56:24,788 - /var/folders/5x/3g67fwns0mb68s__c_3fk4wr0000gn/T/ipykernel_30018/2190528857.py[line:42] - INFO: ====================Test completed!====================\n",
      "2023-03-16 13:56:24,789 - /var/folders/5x/3g67fwns0mb68s__c_3fk4wr0000gn/T/ipykernel_30018/2190528857.py[line:43] - INFO: Failed to execute the following parameter combinations: \n",
      ".\n",
      "----------------------------------------------------------------------\n",
      "Ran 1 test in 71.442s\n",
      "\n",
      "OK\n"
     ]
    },
    {
     "data": {
      "text/plain": [
       "<unittest.runner.TextTestResult run=1 errors=0 failures=0>"
      ]
     },
     "execution_count": 8,
     "metadata": {},
     "output_type": "execute_result"
    }
   ],
   "source": [
    "runner = unittest.TextTestRunner()\n",
    "runner.run(TestCastleAll('test_ANMNonlinear'))"
   ]
  },
  {
   "cell_type": "code",
   "execution_count": 11,
   "metadata": {},
   "outputs": [
    {
     "data": {
      "text/plain": [
       "<property at 0x7fbee215d310>"
      ]
     },
     "execution_count": 11,
     "metadata": {},
     "output_type": "execute_result"
    }
   ],
   "source": [
    "anm = ANMNonlinear()"
   ]
  },
  {
   "cell_type": "code",
   "execution_count": 12,
   "metadata": {},
   "outputs": [
    {
     "ename": "TypeError",
     "evalue": "Input est_dag is not numpy.ndarray!",
     "output_type": "error",
     "traceback": [
      "\u001b[0;31m---------------------------------------------------------------------------\u001b[0m",
      "\u001b[0;31mTypeError\u001b[0m                                 Traceback (most recent call last)",
      "\u001b[0;32m/var/folders/5x/3g67fwns0mb68s__c_3fk4wr0000gn/T/ipykernel_30018/1247551871.py\u001b[0m in \u001b[0;36m<module>\u001b[0;34m\u001b[0m\n\u001b[1;32m      1\u001b[0m \u001b[0;31m# plot predict_dag and true_dag\u001b[0m\u001b[0;34m\u001b[0m\u001b[0;34m\u001b[0m\u001b[0m\n\u001b[0;32m----> 2\u001b[0;31m \u001b[0mGraphDAG\u001b[0m\u001b[0;34m(\u001b[0m\u001b[0mANMNonlinear\u001b[0m\u001b[0;34m.\u001b[0m\u001b[0mcausal_matrix\u001b[0m\u001b[0;34m,\u001b[0m \u001b[0mtrue_dag\u001b[0m\u001b[0;34m,\u001b[0m \u001b[0;34m'result'\u001b[0m\u001b[0;34m)\u001b[0m\u001b[0;34m\u001b[0m\u001b[0;34m\u001b[0m\u001b[0m\n\u001b[0m\u001b[1;32m      3\u001b[0m \u001b[0;34m\u001b[0m\u001b[0m\n\u001b[1;32m      4\u001b[0m \u001b[0;31m# calculate metrics\u001b[0m\u001b[0;34m\u001b[0m\u001b[0;34m\u001b[0m\u001b[0m\n\u001b[1;32m      5\u001b[0m \u001b[0mmt\u001b[0m \u001b[0;34m=\u001b[0m \u001b[0mMetricsDAG\u001b[0m\u001b[0;34m(\u001b[0m\u001b[0mANMNonlinear\u001b[0m\u001b[0;34m.\u001b[0m\u001b[0mcausal_matrix\u001b[0m\u001b[0;34m,\u001b[0m \u001b[0mtrue_dag\u001b[0m\u001b[0;34m)\u001b[0m\u001b[0;34m\u001b[0m\u001b[0;34m\u001b[0m\u001b[0m\n",
      "\u001b[0;32m~/Desktop/CoDiet/code/gCastle/gcastle/tests/../castle/common/plot_dag.py\u001b[0m in \u001b[0;36m__init__\u001b[0;34m(self, est_dag, true_dag, show, save_name)\u001b[0m\n\u001b[1;32m     42\u001b[0m \u001b[0;34m\u001b[0m\u001b[0m\n\u001b[1;32m     43\u001b[0m         \u001b[0;32mif\u001b[0m \u001b[0;32mnot\u001b[0m \u001b[0misinstance\u001b[0m\u001b[0;34m(\u001b[0m\u001b[0mest_dag\u001b[0m\u001b[0;34m,\u001b[0m \u001b[0mnp\u001b[0m\u001b[0;34m.\u001b[0m\u001b[0mndarray\u001b[0m\u001b[0;34m)\u001b[0m\u001b[0;34m:\u001b[0m\u001b[0;34m\u001b[0m\u001b[0;34m\u001b[0m\u001b[0m\n\u001b[0;32m---> 44\u001b[0;31m             \u001b[0;32mraise\u001b[0m \u001b[0mTypeError\u001b[0m\u001b[0;34m(\u001b[0m\u001b[0;34m\"Input est_dag is not numpy.ndarray!\"\u001b[0m\u001b[0;34m)\u001b[0m\u001b[0;34m\u001b[0m\u001b[0;34m\u001b[0m\u001b[0m\n\u001b[0m\u001b[1;32m     45\u001b[0m \u001b[0;34m\u001b[0m\u001b[0m\n\u001b[1;32m     46\u001b[0m         \u001b[0;32mif\u001b[0m \u001b[0mtrue_dag\u001b[0m \u001b[0;32mis\u001b[0m \u001b[0;32mnot\u001b[0m \u001b[0;32mNone\u001b[0m \u001b[0;32mand\u001b[0m \u001b[0;32mnot\u001b[0m \u001b[0misinstance\u001b[0m\u001b[0;34m(\u001b[0m\u001b[0mtrue_dag\u001b[0m\u001b[0;34m,\u001b[0m \u001b[0mnp\u001b[0m\u001b[0;34m.\u001b[0m\u001b[0mndarray\u001b[0m\u001b[0;34m)\u001b[0m\u001b[0;34m:\u001b[0m\u001b[0;34m\u001b[0m\u001b[0;34m\u001b[0m\u001b[0m\n",
      "\u001b[0;31mTypeError\u001b[0m: Input est_dag is not numpy.ndarray!"
     ]
    }
   ],
   "source": [
    "# plot predict_dag and true_dag\n",
    "GraphDAG(ANMNonlinear.causal_matrix, true_dag, 'result')\n",
    "\n",
    "# calculate metrics\n",
    "mt = MetricsDAG(ANMNonlinear.causal_matrix, true_dag)\n",
    "print(mt.metrics)"
   ]
  },
  {
   "cell_type": "code",
   "execution_count": 2,
   "metadata": {},
   "outputs": [
    {
     "name": "stderr",
     "output_type": "stream",
     "text": [
      "2023-03-16 13:52:22,653 - /Users/momo/Desktop/CoDiet/code/gCastle/gcastle/tests/../castle/datasets/simulator.py[line:270] - INFO: Finished synthetic dataset\n"
     ]
    },
    {
     "data": {
      "image/png": "[encoded data removed]",
      "text/plain": [
       "<Figure size 576x216 with 4 Axes>"
      ]
     },
     "metadata": {
      "needs_background": "light"
     },
     "output_type": "display_data"
    },
    {
     "name": "stdout",
     "output_type": "stream",
     "text": [
      "{'fdr': 0.1, 'tpr': 1.0, 'fpr': 0.1667, 'shd': 1, 'nnz': 10, 'precision': 0.8182, 'recall': 1.0, 'F1': 0.9, 'gscore': 0.7778}\n"
     ]
    }
   ],
   "source": [
    "from castle.common import GraphDAG\n",
    "from castle.metrics import MetricsDAG\n",
    "from castle.datasets import DAG, IIDSimulation\n",
    "from castle.algorithms import ANMNonlinear\n",
    "\n",
    "\n",
    "weighted_random_dag = DAG.erdos_renyi(n_nodes=6, n_edges=10, weight_range=(0.5, 2.0), seed=1)\n",
    "\n",
    "anm = ANMNonlinear(alpha=0.05)\n",
    "anm.learn(data=X)\n",
    "\n",
    "# plot predict_dag and true_dag\n",
    "GraphDAG(anm.causal_matrix, true_dag)\n",
    "mm = MetricsDAG(anm.causal_matrix, true_dag)\n",
    "print(mm.metrics)"
   ]
  }
 ],
 "metadata": {
  "interpreter": {
   "hash": "7302b976169d4ac0e049d3964802bd5db24b2435d6a27e889c657eee77aa11c8"
  },
  "kernelspec": {
   "display_name": "Python 3.9.7 ('study')",
   "language": "python",
   "name": "python3"
  },
  "language_info": {
   "codemirror_mode": {
    "name": "ipython",
    "version": 3
   },
   "file_extension": ".py",
   "mimetype": "text/x-python",
   "name": "python",
   "nbconvert_exporter": "python",
   "pygments_lexer": "ipython3",
   "version": "3.9.7"
  },
  "orig_nbformat": 4
 },
 "nbformat": 4,
 "nbformat_minor": 2
}
