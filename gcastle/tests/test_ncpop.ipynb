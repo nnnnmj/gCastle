{
 "cells": [
  {
   "cell_type": "code",
   "execution_count": 2,
   "metadata": {},
   "outputs": [
    {
     "name": "stdout",
     "output_type": "stream",
     "text": [
      "0\n",
      "The problem has 83 noncommuting Hermitian variables\n",
      "Calculating block structure...\n",
      "Estimated number of SDP variables: 3569\n",
      "Generating moment matrix...\n",
      "\u001b[KCurrent number of SDP variables: 2999 (done: 84.06%, ETA 00:00:0.4)"
     ]
    },
    {
     "name": "stderr",
     "output_type": "stream",
     "text": [
      "IOPub message rate exceeded.\n",
      "The notebook server will temporarily stop sending output\n",
      "to the client in order to avoid crashing it.\n",
      "To change this limit, set the config variable\n",
      "`--NotebookApp.iopub_msg_rate_limit`.\n",
      "\n",
      "Current values:\n",
      "NotebookApp.iopub_msg_rate_limit=1000.0 (msgs/sec)\n",
      "NotebookApp.rate_limit_window=3.0 (secs)\n",
      "\n"
     ]
    }
   ],
   "source": [
    "import sys\n",
    "# sys.path.append(\"/NCPOP\") \n",
    "from inputlds import*\n",
    "from functions import*\n",
    "from ncpol2sdpa import*\n",
    "import numpy as np\n",
    "import pandas as pd\n",
    "from math import sqrt\n",
    "\n",
    "# Set parameters\n",
    "start=0.1\n",
    "stop=1.0\n",
    "step=0.1\n",
    "T=20\n",
    "level=1\n",
    "\n",
    "# Collect the nrmse value for each experiment\n",
    "# The function SimCom() might fail to find any feasible solutions\n",
    "pro_rang = np.arange(start,stop,step)\n",
    "obs_rang = np.arange(start,stop,step)\n",
    "proL=len(pro_rang)\n",
    "obsL=len(obs_rang)\n",
    "\n"
   ]
  },
  {
   "cell_type": "code",
   "execution_count": null,
   "metadata": {},
   "outputs": [],
   "source": [
    "g = np.matrix([[0.9,0.2],[0.1,0.1]])\n",
    "f_dash = np.matrix([[1.0,1.0]])\n",
    "\n",
    "Z = np.zeros((proL,obsL))\n",
    "N = np.zeros((proL,obsL))\n",
    "for i in range(proL):\n",
    "    for j in range(obsL):\n",
    "        for n in range(10):\n",
    "            print(n)\n",
    "            Y=data_generation(g,f_dash,pro_rang[i],obs_rang[j],T)\n",
    "            tmp=SimCom(Y,T,level)\n",
    "            if (tmp):\n",
    "                Z[i,j] = tmp\n",
    "                N[i,j] = n\n",
    "                break\n",
    "\n",
    "Zdf=pd.DataFrame(Z)\n",
    "#Zdf.index=pro_rang\n",
    "#Zdf.columns=obs_rang\n",
    "Zdf.to_csv('ncpop100.csv',index=False) #,index=False"
   ]
  },
  {
   "cell_type": "code",
   "execution_count": null,
   "metadata": {},
   "outputs": [],
   "source": []
  }
 ],
 "metadata": {
  "interpreter": {
   "hash": "7302b976169d4ac0e049d3964802bd5db24b2435d6a27e889c657eee77aa11c8"
  },
  "kernelspec": {
   "display_name": "Julia 1.8.5",
   "language": "python",
   "name": "python3"
  },
  "language_info": {
   "codemirror_mode": {
    "name": "ipython",
    "version": 3
   },
   "file_extension": ".py",
   "mimetype": "text/x-python",
   "name": "python",
   "nbconvert_exporter": "python",
   "pygments_lexer": "ipython3",
   "version": "3.9.7"
  },
  "orig_nbformat": 4
 },
 "nbformat": 4,
 "nbformat_minor": 2
}
