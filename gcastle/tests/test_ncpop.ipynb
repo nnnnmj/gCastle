{
 "cells": [
  {
   "cell_type": "code",
   "execution_count": 2,
   "metadata": {},
   "outputs": [
    {
     "name": "stderr",
     "output_type": "stream",
     "text": [
      "2023-04-05 19:20:12,656 - /Users/momo/Desktop/CoDiet/code/gCastle/gcastle/tests/../castle/algorithms/__init__.py[line:37] - INFO: You are using ``pytorch`` as the backend.\n"
     ]
    }
   ],
   "source": [
    "import sys\n",
    "sys.path.append('../')\n",
    "# print (sys.path)\n",
    "import torch\n",
    "import logging\n",
    "import unittest\n",
    "import traceback\n",
    "import numpy as np\n",
    "\n",
    "from castle.algorithms import *\n",
    "from castle.common import consts\n",
    "from castle.common import GraphDAG\n",
    "from castle.metrics import MetricsDAG\n",
    "\n",
    "from utils.functional import combined_params"
   ]
  },
  {
   "cell_type": "markdown",
   "metadata": {},
   "source": [
    "## load data & params"
   ]
  },
  {
   "cell_type": "code",
   "execution_count": 3,
   "metadata": {},
   "outputs": [],
   "source": [
    "data = np.load('dataset/linear_gauss_6nodes_15edges.npz', allow_pickle=True)\n",
    "x = data['x']\n",
    "true_dag = data['y']\n",
    "rank = np.linalg.matrix_rank(true_dag)\n",
    "error_params = []"
   ]
  },
  {
   "cell_type": "code",
   "execution_count": 4,
   "metadata": {},
   "outputs": [
    {
     "data": {
      "text/plain": [
       "((2000, 6),\n",
       " array([[0, 0, 1, 0, 1, 0],\n",
       "        [1, 0, 1, 1, 1, 1],\n",
       "        [0, 0, 0, 0, 1, 0],\n",
       "        [0, 0, 1, 0, 1, 0],\n",
       "        [0, 0, 0, 0, 0, 0],\n",
       "        [1, 0, 1, 0, 1, 0]], dtype=int32))"
      ]
     },
     "execution_count": 4,
     "metadata": {},
     "output_type": "execute_result"
    }
   ],
   "source": [
    "x.shape,true_dag"
   ]
  },
  {
   "cell_type": "code",
   "execution_count": null,
   "metadata": {},
   "outputs": [],
   "source": [
    "ncp = NCPLinear(alpha=0.05)\n",
    "ncp.learn(data=x)"
   ]
  },
  {
   "cell_type": "code",
   "execution_count": null,
   "metadata": {},
   "outputs": [],
   "source": [
    "print(ncp.causal_matrix)\n",
    "GraphDAG(ncp.causal_matrix, true_dag)\n",
    "mm = MetricsDAG(ncp.causal_matrix, true_dag)\n",
    "# print(mm.metrics)"
   ]
  }
 ],
 "metadata": {
  "interpreter": {
   "hash": "7302b976169d4ac0e049d3964802bd5db24b2435d6a27e889c657eee77aa11c8"
  },
  "kernelspec": {
   "display_name": "Python 3.9.7 ('study')",
   "language": "python",
   "name": "python3"
  },
  "language_info": {
   "codemirror_mode": {
    "name": "ipython",
    "version": 3
   },
   "file_extension": ".py",
   "mimetype": "text/x-python",
   "name": "python",
   "nbconvert_exporter": "python",
   "pygments_lexer": "ipython3",
   "version": "3.9.7"
  },
  "orig_nbformat": 4
 },
 "nbformat": 4,
 "nbformat_minor": 2
}
